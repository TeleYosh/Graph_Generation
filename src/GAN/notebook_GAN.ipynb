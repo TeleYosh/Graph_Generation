{
 "cells": [
  {
   "cell_type": "code",
   "execution_count": 1,
   "metadata": {},
   "outputs": [],
   "source": [
    "import os\n",
    "import networkx as nx\n",
    "import numpy as np\n",
    "import matplotlib.pyplot as plt\n",
    "import torch\n",
    "\n",
    "from torch_geometric.loader import DataLoader\n",
    "from torch.optim import Adam\n",
    "\n",
    "from grakel.utils import graph_from_networkx\n",
    "from tqdm.notebook import tqdm\n",
    "\n",
    "from utils import preprocess_dataset, construct_nx_from_adj\n",
    "\n",
    "from models.generator import ConditionalGraphGenerator\n",
    "from models.discriminator import ConditionalGraphDiscriminator"
   ]
  },
  {
   "cell_type": "code",
   "execution_count": 2,
   "metadata": {},
   "outputs": [],
   "source": [
    "def load_graph(filepath):\n",
    "    ext = os.path.splitext(filepath)[1]\n",
    "    if ext == '.edgelist':\n",
    "        return nx.read_edgelist(filepath)\n",
    "    elif ext == '.graphml':\n",
    "        return nx.read_graphml(filepath)\n",
    "    else:\n",
    "        raise ValueError(f\"Unsupported graph format: {ext}\")\n",
    "\n",
    "def load_description(filepath):\n",
    "    with open(filepath, 'r') as file:\n",
    "        return file.read()\n",
    "\n",
    "data_dir = '../data'\n",
    "\n",
    "def load_sample(sample_id, dataset):\n",
    "    for ext in ['.edgelist', '.graphml']:\n",
    "        graph_path = os.path.join(data_dir, dataset, 'graph', f'graph_{sample_id}{ext}')\n",
    "        if os.path.exists(graph_path):\n",
    "            break\n",
    "    else:\n",
    "        raise FileNotFoundError(f\"Graph file for sample {sample_id} not found in supported formats.\")\n",
    "        \n",
    "    description_path = os.path.join(data_dir, dataset, 'description', f'graph_{sample_id}.txt')\n",
    "\n",
    "    graph = load_graph(graph_path)\n",
    "    description = load_description(description_path)\n",
    "\n",
    "    return graph, description\n",
    "\n",
    "def load_test_descriptions():\n",
    "    test_file = os.path.join(data_dir, 'test', 'test.txt')\n",
    "    test_descriptions = {}\n",
    "\n",
    "    with open(test_file, 'r') as file:\n",
    "        for line in file:\n",
    "            if line.strip():\n",
    "                graph_id, description = line.split(',', 1)\n",
    "                test_descriptions[graph_id.strip()] = description.strip()\n",
    "\n",
    "    return test_descriptions\n",
    "test_description = load_test_descriptions()"
   ]
  },
  {
   "cell_type": "code",
   "execution_count": 3,
   "metadata": {},
   "outputs": [
    {
     "name": "stdout",
     "output_type": "stream",
     "text": [
      "Description: \n",
      " This graph comprises 10 nodes and 5 edges. The average degree is equal to 1 and there are 0 triangles in the graph. The global clustering coefficient and the graph's maximum k-core are 0 and 1 respectively. The graph consists of 5 communities.\n",
      "\n",
      "Graph:\n",
      "['0', '1', '5', '6', '3', '9', '7', '8', '2', '4']\n",
      "[('0', '1'), ('5', '6'), ('3', '9'), ('7', '8'), ('2', '4')]\n"
     ]
    }
   ],
   "source": [
    "sample_id = 0\n",
    "graph, description = load_sample(sample_id, 'train')\n",
    "print(\"Description: \\n\", description)\n",
    "print(\"\\nGraph:\")\n",
    "print(graph.nodes)\n",
    "print(graph.edges)\n",
    "# nx.draw(graph, with_labels=True)\n",
    "# plt.show()"
   ]
  },
  {
   "cell_type": "code",
   "execution_count": 4,
   "metadata": {},
   "outputs": [
    {
     "name": "stderr",
     "output_type": "stream",
     "text": [
      "/home/infres/abrik-22/ALTEGRAD_challenge/code/utils.py:26: FutureWarning: You are using `torch.load` with `weights_only=False` (the current default value), which uses the default pickle module implicitly. It is possible to construct malicious pickle data which will execute arbitrary code during unpickling (See https://github.com/pytorch/pytorch/blob/main/SECURITY.md#untrusted-models for more details). In a future release, the default value for `weights_only` will be flipped to `True`. This limits the functions that could be executed during unpickling. Arbitrary objects will no longer be allowed to be loaded via this mode unless they are explicitly allowlisted by the user via `torch.serialization.add_safe_globals`. We recommend you start setting `weights_only=True` for any use case where you don't have full control of the loaded file. Please open an issue on GitHub for any issues related to this experimental feature.\n",
      "  description_embeddings = torch.load(f'../data/{dataset}_embeddings.pt')\n",
      "/home/infres/abrik-22/ALTEGRAD_challenge/code/utils.py:60: FutureWarning: You are using `torch.load` with `weights_only=False` (the current default value), which uses the default pickle module implicitly. It is possible to construct malicious pickle data which will execute arbitrary code during unpickling (See https://github.com/pytorch/pytorch/blob/main/SECURITY.md#untrusted-models for more details). In a future release, the default value for `weights_only` will be flipped to `True`. This limits the functions that could be executed during unpickling. Arbitrary objects will no longer be allowed to be loaded via this mode unless they are explicitly allowlisted by the user via `torch.serialization.add_safe_globals`. We recommend you start setting `weights_only=True` for any use case where you don't have full control of the loaded file. Please open an issue on GitHub for any issues related to this experimental feature.\n",
      "  data_lst = torch.load(filename)\n"
     ]
    },
    {
     "name": "stdout",
     "output_type": "stream",
     "text": [
      "Dataset ../data/dataset_train.pt loaded from file\n",
      "Dataset ../data/dataset_valid.pt loaded from file\n",
      "Dataset ../data/dataset_test.pt loaded from file\n"
     ]
    },
    {
     "name": "stderr",
     "output_type": "stream",
     "text": [
      "/home/infres/abrik-22/ALTEGRAD_challenge/code/utils.py:34: FutureWarning: You are using `torch.load` with `weights_only=False` (the current default value), which uses the default pickle module implicitly. It is possible to construct malicious pickle data which will execute arbitrary code during unpickling (See https://github.com/pytorch/pytorch/blob/main/SECURITY.md#untrusted-models for more details). In a future release, the default value for `weights_only` will be flipped to `True`. This limits the functions that could be executed during unpickling. Arbitrary objects will no longer be allowed to be loaded via this mode unless they are explicitly allowlisted by the user via `torch.serialization.add_safe_globals`. We recommend you start setting `weights_only=True` for any use case where you don't have full control of the loaded file. Please open an issue on GitHub for any issues related to this experimental feature.\n",
      "  data_lst = torch.load(filename)\n"
     ]
    }
   ],
   "source": [
    "n_max_nodes = 50\n",
    "spectral_emb_dim = 10\n",
    "trainset = preprocess_dataset('train', n_max_nodes, spectral_emb_dim)\n",
    "validset = preprocess_dataset('valid', n_max_nodes, spectral_emb_dim)\n",
    "testset = preprocess_dataset('test', n_max_nodes, spectral_emb_dim)"
   ]
  },
  {
   "cell_type": "code",
   "execution_count": 5,
   "metadata": {},
   "outputs": [
    {
     "name": "stdout",
     "output_type": "stream",
     "text": [
      "x shape:  torch.Size([43, 16])\n",
      "edge_index shape:  torch.Size([2, 84])\n",
      "A shape:  torch.Size([1, 50, 50])\n",
      "stats:  tensor([[43.0000, 42.0000,  1.9535,  0.0000,  0.0000,  1.0000,  7.0000]])\n",
      "stats shape:  torch.Size([1, 7])\n",
      "desc_embd shape:  torch.Size([1, 768])\n",
      "filename:  graph_5772\n"
     ]
    }
   ],
   "source": [
    "data0 = trainset[927]\n",
    "x, edge_index, A, stats, desc_embd, filename = data0.x, data0.edge_index, data0.A, data0.stats, data0.description_embedding, data0.filename\n",
    "print(\"x shape: \", x.shape)\n",
    "print(\"edge_index shape: \", edge_index.shape)\n",
    "print(\"A shape: \", A.shape)\n",
    "print(\"stats: \", stats)\n",
    "print(\"stats shape: \", stats.shape)\n",
    "print(\"desc_embd shape: \", desc_embd.shape)\n",
    "print(\"filename: \", filename)"
   ]
  },
  {
   "cell_type": "code",
   "execution_count": 6,
   "metadata": {},
   "outputs": [],
   "source": [
    "device = torch.device('cuda' if torch.cuda.is_available() else 'cpu')\n",
    "BATCH = 10\n",
    "EPOCHS = 100\n",
    "stats_dim = 7\n",
    "desc_embd_dim = 768\n",
    "n_max_nodes = 50\n",
    "noise_dim = 10\n",
    "\n",
    "# initialize data loaders\n",
    "train_loader = DataLoader(trainset, batch_size=BATCH, shuffle=True)\n",
    "val_loader = DataLoader(validset, batch_size=BATCH, shuffle=False)\n",
    "test_loader = DataLoader(testset, batch_size=BATCH, shuffle=False)"
   ]
  },
  {
   "cell_type": "code",
   "execution_count": null,
   "metadata": {},
   "outputs": [
    {
     "name": "stdout",
     "output_type": "stream",
     "text": [
      "\n",
      "Epoch [1/100]\n"
     ]
    },
    {
     "data": {
      "application/vnd.jupyter.widget-view+json": {
       "model_id": "0945655e1a554397b5cdb4cb785deecc",
       "version_major": 2,
       "version_minor": 0
      },
      "text/plain": [
       "Training:   0%|          | 0/800 [00:00<?, ?it/s]"
      ]
     },
     "metadata": {},
     "output_type": "display_data"
    },
    {
     "data": {
      "application/vnd.jupyter.widget-view+json": {
       "model_id": "3547d3e0b36244f5bfb67bc9e0529c7e",
       "version_major": 2,
       "version_minor": 0
      },
      "text/plain": [
       "Validating:   0%|          | 0/100 [00:00<?, ?it/s]"
      ]
     },
     "metadata": {},
     "output_type": "display_data"
    },
    {
     "name": "stdout",
     "output_type": "stream",
     "text": [
      "\n",
      "Epoch [2/100]\n"
     ]
    },
    {
     "data": {
      "application/vnd.jupyter.widget-view+json": {
       "model_id": "5c1262a359be4f4596d3170e37b48870",
       "version_major": 2,
       "version_minor": 0
      },
      "text/plain": [
       "Training:   0%|          | 0/800 [00:00<?, ?it/s]"
      ]
     },
     "metadata": {},
     "output_type": "display_data"
    },
    {
     "data": {
      "application/vnd.jupyter.widget-view+json": {
       "model_id": "872206a091c346dc93d567aaaddcf467",
       "version_major": 2,
       "version_minor": 0
      },
      "text/plain": [
       "Validating:   0%|          | 0/100 [00:00<?, ?it/s]"
      ]
     },
     "metadata": {},
     "output_type": "display_data"
    },
    {
     "name": "stdout",
     "output_type": "stream",
     "text": [
      "\n",
      "Epoch [3/100]\n"
     ]
    },
    {
     "data": {
      "application/vnd.jupyter.widget-view+json": {
       "model_id": "92dd26a204294b7b99211ccf8e9c55d3",
       "version_major": 2,
       "version_minor": 0
      },
      "text/plain": [
       "Training:   0%|          | 0/800 [00:00<?, ?it/s]"
      ]
     },
     "metadata": {},
     "output_type": "display_data"
    },
    {
     "data": {
      "application/vnd.jupyter.widget-view+json": {
       "model_id": "fb9825ff992a4cbb9f659df6230a7304",
       "version_major": 2,
       "version_minor": 0
      },
      "text/plain": [
       "Validating:   0%|          | 0/100 [00:00<?, ?it/s]"
      ]
     },
     "metadata": {},
     "output_type": "display_data"
    },
    {
     "name": "stdout",
     "output_type": "stream",
     "text": [
      "\n",
      "Epoch [4/100]\n"
     ]
    },
    {
     "data": {
      "application/vnd.jupyter.widget-view+json": {
       "model_id": "f9d78a1049de4b1fab989acdee575406",
       "version_major": 2,
       "version_minor": 0
      },
      "text/plain": [
       "Training:   0%|          | 0/800 [00:00<?, ?it/s]"
      ]
     },
     "metadata": {},
     "output_type": "display_data"
    },
    {
     "data": {
      "application/vnd.jupyter.widget-view+json": {
       "model_id": "c81de3b4bd1e40758e5a345e051e7341",
       "version_major": 2,
       "version_minor": 0
      },
      "text/plain": [
       "Validating:   0%|          | 0/100 [00:00<?, ?it/s]"
      ]
     },
     "metadata": {},
     "output_type": "display_data"
    },
    {
     "name": "stdout",
     "output_type": "stream",
     "text": [
      "\n",
      "Epoch [5/100]\n"
     ]
    },
    {
     "data": {
      "application/vnd.jupyter.widget-view+json": {
       "model_id": "6d5da22fa0054b639cd8804bdb603321",
       "version_major": 2,
       "version_minor": 0
      },
      "text/plain": [
       "Training:   0%|          | 0/800 [00:00<?, ?it/s]"
      ]
     },
     "metadata": {},
     "output_type": "display_data"
    },
    {
     "data": {
      "application/vnd.jupyter.widget-view+json": {
       "model_id": "ac06362d391742e49af50ffe23eb86b8",
       "version_major": 2,
       "version_minor": 0
      },
      "text/plain": [
       "Validating:   0%|          | 0/100 [00:00<?, ?it/s]"
      ]
     },
     "metadata": {},
     "output_type": "display_data"
    },
    {
     "name": "stdout",
     "output_type": "stream",
     "text": [
      "\n",
      "Epoch [6/100]\n"
     ]
    },
    {
     "data": {
      "application/vnd.jupyter.widget-view+json": {
       "model_id": "21e07ba31dce4b70a026936812047835",
       "version_major": 2,
       "version_minor": 0
      },
      "text/plain": [
       "Training:   0%|          | 0/800 [00:00<?, ?it/s]"
      ]
     },
     "metadata": {},
     "output_type": "display_data"
    },
    {
     "data": {
      "application/vnd.jupyter.widget-view+json": {
       "model_id": "edcb8c7cc42e48be88fafce26e515e0b",
       "version_major": 2,
       "version_minor": 0
      },
      "text/plain": [
       "Validating:   0%|          | 0/100 [00:00<?, ?it/s]"
      ]
     },
     "metadata": {},
     "output_type": "display_data"
    },
    {
     "name": "stdout",
     "output_type": "stream",
     "text": [
      "\n",
      "Epoch [7/100]\n"
     ]
    },
    {
     "data": {
      "application/vnd.jupyter.widget-view+json": {
       "model_id": "55454f437a0446f49514f2c01395dddc",
       "version_major": 2,
       "version_minor": 0
      },
      "text/plain": [
       "Training:   0%|          | 0/800 [00:00<?, ?it/s]"
      ]
     },
     "metadata": {},
     "output_type": "display_data"
    },
    {
     "data": {
      "application/vnd.jupyter.widget-view+json": {
       "model_id": "3d0b35a86b294542bff7afc23e8a6780",
       "version_major": 2,
       "version_minor": 0
      },
      "text/plain": [
       "Validating:   0%|          | 0/100 [00:00<?, ?it/s]"
      ]
     },
     "metadata": {},
     "output_type": "display_data"
    },
    {
     "name": "stdout",
     "output_type": "stream",
     "text": [
      "\n",
      "Epoch [8/100]\n"
     ]
    },
    {
     "data": {
      "application/vnd.jupyter.widget-view+json": {
       "model_id": "677c5b5683014e728888c8bacefb1612",
       "version_major": 2,
       "version_minor": 0
      },
      "text/plain": [
       "Training:   0%|          | 0/800 [00:00<?, ?it/s]"
      ]
     },
     "metadata": {},
     "output_type": "display_data"
    },
    {
     "data": {
      "application/vnd.jupyter.widget-view+json": {
       "model_id": "d258e1689e324244afdea7a0bbd25be0",
       "version_major": 2,
       "version_minor": 0
      },
      "text/plain": [
       "Validating:   0%|          | 0/100 [00:00<?, ?it/s]"
      ]
     },
     "metadata": {},
     "output_type": "display_data"
    },
    {
     "name": "stdout",
     "output_type": "stream",
     "text": [
      "\n",
      "Epoch [9/100]\n"
     ]
    },
    {
     "data": {
      "application/vnd.jupyter.widget-view+json": {
       "model_id": "f303e09458dd40d7a041547ffce17950",
       "version_major": 2,
       "version_minor": 0
      },
      "text/plain": [
       "Training:   0%|          | 0/800 [00:00<?, ?it/s]"
      ]
     },
     "metadata": {},
     "output_type": "display_data"
    },
    {
     "data": {
      "application/vnd.jupyter.widget-view+json": {
       "model_id": "35d4fd1c224748eca6ad3a486943b225",
       "version_major": 2,
       "version_minor": 0
      },
      "text/plain": [
       "Validating:   0%|          | 0/100 [00:00<?, ?it/s]"
      ]
     },
     "metadata": {},
     "output_type": "display_data"
    },
    {
     "name": "stdout",
     "output_type": "stream",
     "text": [
      "\n",
      "Epoch [10/100]\n"
     ]
    },
    {
     "data": {
      "application/vnd.jupyter.widget-view+json": {
       "model_id": "f475a3967300423cb891d200ee0b8532",
       "version_major": 2,
       "version_minor": 0
      },
      "text/plain": [
       "Training:   0%|          | 0/800 [00:00<?, ?it/s]"
      ]
     },
     "metadata": {},
     "output_type": "display_data"
    },
    {
     "data": {
      "application/vnd.jupyter.widget-view+json": {
       "model_id": "9fb6648d83b9436cb2ba14561b2fd56f",
       "version_major": 2,
       "version_minor": 0
      },
      "text/plain": [
       "Validating:   0%|          | 0/100 [00:00<?, ?it/s]"
      ]
     },
     "metadata": {},
     "output_type": "display_data"
    },
    {
     "name": "stdout",
     "output_type": "stream",
     "text": [
      "\n",
      "Epoch [11/100]\n"
     ]
    },
    {
     "data": {
      "application/vnd.jupyter.widget-view+json": {
       "model_id": "959e45567fd64606bd21662d59fe8f9b",
       "version_major": 2,
       "version_minor": 0
      },
      "text/plain": [
       "Training:   0%|          | 0/800 [00:00<?, ?it/s]"
      ]
     },
     "metadata": {},
     "output_type": "display_data"
    },
    {
     "data": {
      "application/vnd.jupyter.widget-view+json": {
       "model_id": "7db3a9bde67e4fb988bf49f63241dc41",
       "version_major": 2,
       "version_minor": 0
      },
      "text/plain": [
       "Validating:   0%|          | 0/100 [00:00<?, ?it/s]"
      ]
     },
     "metadata": {},
     "output_type": "display_data"
    },
    {
     "name": "stdout",
     "output_type": "stream",
     "text": [
      "\n",
      "Epoch [12/100]\n"
     ]
    },
    {
     "data": {
      "application/vnd.jupyter.widget-view+json": {
       "model_id": "524f00d4811b43f38fc8aa72cf8d2aac",
       "version_major": 2,
       "version_minor": 0
      },
      "text/plain": [
       "Training:   0%|          | 0/800 [00:00<?, ?it/s]"
      ]
     },
     "metadata": {},
     "output_type": "display_data"
    },
    {
     "data": {
      "application/vnd.jupyter.widget-view+json": {
       "model_id": "8761f622317a4c698c02fc49abc61b96",
       "version_major": 2,
       "version_minor": 0
      },
      "text/plain": [
       "Validating:   0%|          | 0/100 [00:00<?, ?it/s]"
      ]
     },
     "metadata": {},
     "output_type": "display_data"
    },
    {
     "name": "stdout",
     "output_type": "stream",
     "text": [
      "\n",
      "Epoch [13/100]\n"
     ]
    },
    {
     "data": {
      "application/vnd.jupyter.widget-view+json": {
       "model_id": "81c1f323c4544a06b6512db808b2f7f7",
       "version_major": 2,
       "version_minor": 0
      },
      "text/plain": [
       "Training:   0%|          | 0/800 [00:00<?, ?it/s]"
      ]
     },
     "metadata": {},
     "output_type": "display_data"
    },
    {
     "data": {
      "application/vnd.jupyter.widget-view+json": {
       "model_id": "432ba34995c945b8a8e779f469472f85",
       "version_major": 2,
       "version_minor": 0
      },
      "text/plain": [
       "Validating:   0%|          | 0/100 [00:00<?, ?it/s]"
      ]
     },
     "metadata": {},
     "output_type": "display_data"
    },
    {
     "name": "stdout",
     "output_type": "stream",
     "text": [
      "\n",
      "Epoch [14/100]\n"
     ]
    },
    {
     "data": {
      "application/vnd.jupyter.widget-view+json": {
       "model_id": "7960d962f15a46c5a0ae3045908d1086",
       "version_major": 2,
       "version_minor": 0
      },
      "text/plain": [
       "Training:   0%|          | 0/800 [00:00<?, ?it/s]"
      ]
     },
     "metadata": {},
     "output_type": "display_data"
    },
    {
     "data": {
      "application/vnd.jupyter.widget-view+json": {
       "model_id": "5e71144a7bdc450db7b8908e687932a4",
       "version_major": 2,
       "version_minor": 0
      },
      "text/plain": [
       "Validating:   0%|          | 0/100 [00:00<?, ?it/s]"
      ]
     },
     "metadata": {},
     "output_type": "display_data"
    },
    {
     "name": "stdout",
     "output_type": "stream",
     "text": [
      "\n",
      "Epoch [15/100]\n"
     ]
    },
    {
     "data": {
      "application/vnd.jupyter.widget-view+json": {
       "model_id": "bc474dc8b43148018d9e945c652fd82c",
       "version_major": 2,
       "version_minor": 0
      },
      "text/plain": [
       "Training:   0%|          | 0/800 [00:00<?, ?it/s]"
      ]
     },
     "metadata": {},
     "output_type": "display_data"
    },
    {
     "data": {
      "application/vnd.jupyter.widget-view+json": {
       "model_id": "5b33e1f837784df79e6363cc6905ba22",
       "version_major": 2,
       "version_minor": 0
      },
      "text/plain": [
       "Validating:   0%|          | 0/100 [00:00<?, ?it/s]"
      ]
     },
     "metadata": {},
     "output_type": "display_data"
    },
    {
     "name": "stdout",
     "output_type": "stream",
     "text": [
      "\n",
      "Epoch [16/100]\n"
     ]
    },
    {
     "data": {
      "application/vnd.jupyter.widget-view+json": {
       "model_id": "853c094b09d04209858eb171af4bb2ff",
       "version_major": 2,
       "version_minor": 0
      },
      "text/plain": [
       "Training:   0%|          | 0/800 [00:00<?, ?it/s]"
      ]
     },
     "metadata": {},
     "output_type": "display_data"
    },
    {
     "data": {
      "application/vnd.jupyter.widget-view+json": {
       "model_id": "89903a7692b543e496bcd79de2a62eec",
       "version_major": 2,
       "version_minor": 0
      },
      "text/plain": [
       "Validating:   0%|          | 0/100 [00:00<?, ?it/s]"
      ]
     },
     "metadata": {},
     "output_type": "display_data"
    },
    {
     "name": "stdout",
     "output_type": "stream",
     "text": [
      "\n",
      "Epoch [17/100]\n"
     ]
    },
    {
     "data": {
      "application/vnd.jupyter.widget-view+json": {
       "model_id": "afda4aa3436548ad858bea869accb1df",
       "version_major": 2,
       "version_minor": 0
      },
      "text/plain": [
       "Training:   0%|          | 0/800 [00:00<?, ?it/s]"
      ]
     },
     "metadata": {},
     "output_type": "display_data"
    },
    {
     "data": {
      "application/vnd.jupyter.widget-view+json": {
       "model_id": "c03df6708739482b8c5cc6a842c32a8c",
       "version_major": 2,
       "version_minor": 0
      },
      "text/plain": [
       "Validating:   0%|          | 0/100 [00:00<?, ?it/s]"
      ]
     },
     "metadata": {},
     "output_type": "display_data"
    },
    {
     "name": "stdout",
     "output_type": "stream",
     "text": [
      "\n",
      "Epoch [18/100]\n"
     ]
    },
    {
     "data": {
      "application/vnd.jupyter.widget-view+json": {
       "model_id": "7d674ebcf1c3499c97318b2a911b9668",
       "version_major": 2,
       "version_minor": 0
      },
      "text/plain": [
       "Training:   0%|          | 0/800 [00:00<?, ?it/s]"
      ]
     },
     "metadata": {},
     "output_type": "display_data"
    },
    {
     "data": {
      "application/vnd.jupyter.widget-view+json": {
       "model_id": "3ab965f0994c41cd9794caf59dc31bee",
       "version_major": 2,
       "version_minor": 0
      },
      "text/plain": [
       "Validating:   0%|          | 0/100 [00:00<?, ?it/s]"
      ]
     },
     "metadata": {},
     "output_type": "display_data"
    },
    {
     "name": "stdout",
     "output_type": "stream",
     "text": [
      "\n",
      "Epoch [19/100]\n"
     ]
    },
    {
     "data": {
      "application/vnd.jupyter.widget-view+json": {
       "model_id": "441cb97f1fe541418ea2938b0ac18338",
       "version_major": 2,
       "version_minor": 0
      },
      "text/plain": [
       "Training:   0%|          | 0/800 [00:00<?, ?it/s]"
      ]
     },
     "metadata": {},
     "output_type": "display_data"
    },
    {
     "data": {
      "application/vnd.jupyter.widget-view+json": {
       "model_id": "a707bce4ff7e4bfabd380cd73624e047",
       "version_major": 2,
       "version_minor": 0
      },
      "text/plain": [
       "Validating:   0%|          | 0/100 [00:00<?, ?it/s]"
      ]
     },
     "metadata": {},
     "output_type": "display_data"
    },
    {
     "name": "stdout",
     "output_type": "stream",
     "text": [
      "\n",
      "Epoch [20/100]\n"
     ]
    },
    {
     "data": {
      "application/vnd.jupyter.widget-view+json": {
       "model_id": "e85a87a869b346dc9cade10d1ab0a3ad",
       "version_major": 2,
       "version_minor": 0
      },
      "text/plain": [
       "Training:   0%|          | 0/800 [00:00<?, ?it/s]"
      ]
     },
     "metadata": {},
     "output_type": "display_data"
    },
    {
     "data": {
      "application/vnd.jupyter.widget-view+json": {
       "model_id": "a8d12fefbe844c4f845282a554f4eeda",
       "version_major": 2,
       "version_minor": 0
      },
      "text/plain": [
       "Validating:   0%|          | 0/100 [00:00<?, ?it/s]"
      ]
     },
     "metadata": {},
     "output_type": "display_data"
    },
    {
     "name": "stdout",
     "output_type": "stream",
     "text": [
      "\n",
      "Epoch [21/100]\n"
     ]
    },
    {
     "data": {
      "application/vnd.jupyter.widget-view+json": {
       "model_id": "b87a532ddbf74e94b28ea6fbd35bcdc2",
       "version_major": 2,
       "version_minor": 0
      },
      "text/plain": [
       "Training:   0%|          | 0/800 [00:00<?, ?it/s]"
      ]
     },
     "metadata": {},
     "output_type": "display_data"
    },
    {
     "data": {
      "application/vnd.jupyter.widget-view+json": {
       "model_id": "f54efb19715443bea7ce4acdef495918",
       "version_major": 2,
       "version_minor": 0
      },
      "text/plain": [
       "Validating:   0%|          | 0/100 [00:00<?, ?it/s]"
      ]
     },
     "metadata": {},
     "output_type": "display_data"
    },
    {
     "name": "stdout",
     "output_type": "stream",
     "text": [
      "\n",
      "Epoch [22/100]\n"
     ]
    },
    {
     "data": {
      "application/vnd.jupyter.widget-view+json": {
       "model_id": "77eaa85bd3fd455cacf4edff6f6bd335",
       "version_major": 2,
       "version_minor": 0
      },
      "text/plain": [
       "Training:   0%|          | 0/800 [00:00<?, ?it/s]"
      ]
     },
     "metadata": {},
     "output_type": "display_data"
    },
    {
     "data": {
      "application/vnd.jupyter.widget-view+json": {
       "model_id": "1557f1680a774cc3a611e51508e52990",
       "version_major": 2,
       "version_minor": 0
      },
      "text/plain": [
       "Validating:   0%|          | 0/100 [00:00<?, ?it/s]"
      ]
     },
     "metadata": {},
     "output_type": "display_data"
    },
    {
     "name": "stdout",
     "output_type": "stream",
     "text": [
      "\n",
      "Epoch [23/100]\n"
     ]
    },
    {
     "data": {
      "application/vnd.jupyter.widget-view+json": {
       "model_id": "397c70f4812a430a894cb358b713e5b3",
       "version_major": 2,
       "version_minor": 0
      },
      "text/plain": [
       "Training:   0%|          | 0/800 [00:00<?, ?it/s]"
      ]
     },
     "metadata": {},
     "output_type": "display_data"
    },
    {
     "data": {
      "application/vnd.jupyter.widget-view+json": {
       "model_id": "c4e3423c6fd5472eaf5a7f32bd1be0b5",
       "version_major": 2,
       "version_minor": 0
      },
      "text/plain": [
       "Validating:   0%|          | 0/100 [00:00<?, ?it/s]"
      ]
     },
     "metadata": {},
     "output_type": "display_data"
    },
    {
     "name": "stdout",
     "output_type": "stream",
     "text": [
      "\n",
      "Epoch [24/100]\n"
     ]
    },
    {
     "data": {
      "application/vnd.jupyter.widget-view+json": {
       "model_id": "a4efd5a5c8a7428880cc6fe5f8ef58e9",
       "version_major": 2,
       "version_minor": 0
      },
      "text/plain": [
       "Training:   0%|          | 0/800 [00:00<?, ?it/s]"
      ]
     },
     "metadata": {},
     "output_type": "display_data"
    },
    {
     "data": {
      "application/vnd.jupyter.widget-view+json": {
       "model_id": "3d751cc7a4b14b67b9b6919547ea1a0f",
       "version_major": 2,
       "version_minor": 0
      },
      "text/plain": [
       "Validating:   0%|          | 0/100 [00:00<?, ?it/s]"
      ]
     },
     "metadata": {},
     "output_type": "display_data"
    },
    {
     "name": "stdout",
     "output_type": "stream",
     "text": [
      "\n",
      "Epoch [25/100]\n"
     ]
    },
    {
     "data": {
      "application/vnd.jupyter.widget-view+json": {
       "model_id": "283f49f66b3b407e868cc4b187826ae7",
       "version_major": 2,
       "version_minor": 0
      },
      "text/plain": [
       "Training:   0%|          | 0/800 [00:00<?, ?it/s]"
      ]
     },
     "metadata": {},
     "output_type": "display_data"
    },
    {
     "data": {
      "application/vnd.jupyter.widget-view+json": {
       "model_id": "3e2a7ee9905546759b8e752be7d64cf4",
       "version_major": 2,
       "version_minor": 0
      },
      "text/plain": [
       "Validating:   0%|          | 0/100 [00:00<?, ?it/s]"
      ]
     },
     "metadata": {},
     "output_type": "display_data"
    },
    {
     "name": "stdout",
     "output_type": "stream",
     "text": [
      "\n",
      "Epoch [26/100]\n"
     ]
    },
    {
     "data": {
      "application/vnd.jupyter.widget-view+json": {
       "model_id": "e5aff8349df944e29d2c1e583805f150",
       "version_major": 2,
       "version_minor": 0
      },
      "text/plain": [
       "Training:   0%|          | 0/800 [00:00<?, ?it/s]"
      ]
     },
     "metadata": {},
     "output_type": "display_data"
    },
    {
     "data": {
      "application/vnd.jupyter.widget-view+json": {
       "model_id": "0d2cf9552d0842a4b1f64e2d5a8973cb",
       "version_major": 2,
       "version_minor": 0
      },
      "text/plain": [
       "Validating:   0%|          | 0/100 [00:00<?, ?it/s]"
      ]
     },
     "metadata": {},
     "output_type": "display_data"
    },
    {
     "name": "stdout",
     "output_type": "stream",
     "text": [
      "\n",
      "Epoch [27/100]\n"
     ]
    },
    {
     "data": {
      "application/vnd.jupyter.widget-view+json": {
       "model_id": "70e62e67c7b84aa7af0db426a81ffeb9",
       "version_major": 2,
       "version_minor": 0
      },
      "text/plain": [
       "Training:   0%|          | 0/800 [00:00<?, ?it/s]"
      ]
     },
     "metadata": {},
     "output_type": "display_data"
    },
    {
     "data": {
      "application/vnd.jupyter.widget-view+json": {
       "model_id": "ecd2f22c014b457983b8a92cdad2cf43",
       "version_major": 2,
       "version_minor": 0
      },
      "text/plain": [
       "Validating:   0%|          | 0/100 [00:00<?, ?it/s]"
      ]
     },
     "metadata": {},
     "output_type": "display_data"
    },
    {
     "name": "stdout",
     "output_type": "stream",
     "text": [
      "\n",
      "Epoch [28/100]\n"
     ]
    },
    {
     "data": {
      "application/vnd.jupyter.widget-view+json": {
       "model_id": "4aa79fb0fb4840c5934ee012f425cc53",
       "version_major": 2,
       "version_minor": 0
      },
      "text/plain": [
       "Training:   0%|          | 0/800 [00:00<?, ?it/s]"
      ]
     },
     "metadata": {},
     "output_type": "display_data"
    },
    {
     "data": {
      "application/vnd.jupyter.widget-view+json": {
       "model_id": "964e751c7b8f4792bebc95878c75f437",
       "version_major": 2,
       "version_minor": 0
      },
      "text/plain": [
       "Validating:   0%|          | 0/100 [00:00<?, ?it/s]"
      ]
     },
     "metadata": {},
     "output_type": "display_data"
    },
    {
     "name": "stdout",
     "output_type": "stream",
     "text": [
      "\n",
      "Epoch [29/100]\n"
     ]
    },
    {
     "data": {
      "application/vnd.jupyter.widget-view+json": {
       "model_id": "4aea23c0bc964406a09491f0d68479f9",
       "version_major": 2,
       "version_minor": 0
      },
      "text/plain": [
       "Training:   0%|          | 0/800 [00:00<?, ?it/s]"
      ]
     },
     "metadata": {},
     "output_type": "display_data"
    },
    {
     "data": {
      "application/vnd.jupyter.widget-view+json": {
       "model_id": "bf010a8c37964954b3e5d027db0e9df5",
       "version_major": 2,
       "version_minor": 0
      },
      "text/plain": [
       "Validating:   0%|          | 0/100 [00:00<?, ?it/s]"
      ]
     },
     "metadata": {},
     "output_type": "display_data"
    },
    {
     "name": "stdout",
     "output_type": "stream",
     "text": [
      "\n",
      "Epoch [30/100]\n"
     ]
    },
    {
     "data": {
      "application/vnd.jupyter.widget-view+json": {
       "model_id": "f702fdf7ba0043a7ad43304cb3607bed",
       "version_major": 2,
       "version_minor": 0
      },
      "text/plain": [
       "Training:   0%|          | 0/800 [00:00<?, ?it/s]"
      ]
     },
     "metadata": {},
     "output_type": "display_data"
    },
    {
     "data": {
      "application/vnd.jupyter.widget-view+json": {
       "model_id": "369985d5e98d4b4497cd5125071ac60a",
       "version_major": 2,
       "version_minor": 0
      },
      "text/plain": [
       "Validating:   0%|          | 0/100 [00:00<?, ?it/s]"
      ]
     },
     "metadata": {},
     "output_type": "display_data"
    },
    {
     "name": "stdout",
     "output_type": "stream",
     "text": [
      "\n",
      "Epoch [31/100]\n"
     ]
    },
    {
     "data": {
      "application/vnd.jupyter.widget-view+json": {
       "model_id": "f74ec0c9b88544c88c25ec89ebef7978",
       "version_major": 2,
       "version_minor": 0
      },
      "text/plain": [
       "Training:   0%|          | 0/800 [00:00<?, ?it/s]"
      ]
     },
     "metadata": {},
     "output_type": "display_data"
    },
    {
     "data": {
      "application/vnd.jupyter.widget-view+json": {
       "model_id": "ef6a81e179ce4b5fb611386053dcbcc4",
       "version_major": 2,
       "version_minor": 0
      },
      "text/plain": [
       "Validating:   0%|          | 0/100 [00:00<?, ?it/s]"
      ]
     },
     "metadata": {},
     "output_type": "display_data"
    },
    {
     "name": "stdout",
     "output_type": "stream",
     "text": [
      "\n",
      "Epoch [32/100]\n"
     ]
    },
    {
     "data": {
      "application/vnd.jupyter.widget-view+json": {
       "model_id": "ae491ac07c6d4700b0cc2afe43fd28fe",
       "version_major": 2,
       "version_minor": 0
      },
      "text/plain": [
       "Training:   0%|          | 0/800 [00:00<?, ?it/s]"
      ]
     },
     "metadata": {},
     "output_type": "display_data"
    },
    {
     "data": {
      "application/vnd.jupyter.widget-view+json": {
       "model_id": "113b17c6f1a74b79a0b605f352558c16",
       "version_major": 2,
       "version_minor": 0
      },
      "text/plain": [
       "Validating:   0%|          | 0/100 [00:00<?, ?it/s]"
      ]
     },
     "metadata": {},
     "output_type": "display_data"
    },
    {
     "name": "stdout",
     "output_type": "stream",
     "text": [
      "\n",
      "Epoch [33/100]\n"
     ]
    },
    {
     "data": {
      "application/vnd.jupyter.widget-view+json": {
       "model_id": "be866be2c7fe42969009fdc516cca525",
       "version_major": 2,
       "version_minor": 0
      },
      "text/plain": [
       "Training:   0%|          | 0/800 [00:00<?, ?it/s]"
      ]
     },
     "metadata": {},
     "output_type": "display_data"
    },
    {
     "data": {
      "application/vnd.jupyter.widget-view+json": {
       "model_id": "6a2337c97bdc4061a80543ddd0a7671a",
       "version_major": 2,
       "version_minor": 0
      },
      "text/plain": [
       "Validating:   0%|          | 0/100 [00:00<?, ?it/s]"
      ]
     },
     "metadata": {},
     "output_type": "display_data"
    },
    {
     "name": "stdout",
     "output_type": "stream",
     "text": [
      "\n",
      "Epoch [34/100]\n"
     ]
    },
    {
     "data": {
      "application/vnd.jupyter.widget-view+json": {
       "model_id": "8e4304558cd741f89f238b5723f0d988",
       "version_major": 2,
       "version_minor": 0
      },
      "text/plain": [
       "Training:   0%|          | 0/800 [00:00<?, ?it/s]"
      ]
     },
     "metadata": {},
     "output_type": "display_data"
    },
    {
     "data": {
      "application/vnd.jupyter.widget-view+json": {
       "model_id": "fb3bbbedf6a545d38ffe3ae2a5a7afe3",
       "version_major": 2,
       "version_minor": 0
      },
      "text/plain": [
       "Validating:   0%|          | 0/100 [00:00<?, ?it/s]"
      ]
     },
     "metadata": {},
     "output_type": "display_data"
    },
    {
     "name": "stdout",
     "output_type": "stream",
     "text": [
      "\n",
      "Epoch [35/100]\n"
     ]
    },
    {
     "data": {
      "application/vnd.jupyter.widget-view+json": {
       "model_id": "ad399e1ffac24f0683578a096f667228",
       "version_major": 2,
       "version_minor": 0
      },
      "text/plain": [
       "Training:   0%|          | 0/800 [00:00<?, ?it/s]"
      ]
     },
     "metadata": {},
     "output_type": "display_data"
    },
    {
     "data": {
      "application/vnd.jupyter.widget-view+json": {
       "model_id": "3f99946189c24844b36752b03eea3b31",
       "version_major": 2,
       "version_minor": 0
      },
      "text/plain": [
       "Validating:   0%|          | 0/100 [00:00<?, ?it/s]"
      ]
     },
     "metadata": {},
     "output_type": "display_data"
    },
    {
     "name": "stdout",
     "output_type": "stream",
     "text": [
      "\n",
      "Epoch [36/100]\n"
     ]
    },
    {
     "data": {
      "application/vnd.jupyter.widget-view+json": {
       "model_id": "2542a78cb73d4fa1bc86b3dea1622b9b",
       "version_major": 2,
       "version_minor": 0
      },
      "text/plain": [
       "Training:   0%|          | 0/800 [00:00<?, ?it/s]"
      ]
     },
     "metadata": {},
     "output_type": "display_data"
    },
    {
     "data": {
      "application/vnd.jupyter.widget-view+json": {
       "model_id": "eeda660370b64a65b109778b1c9b99b3",
       "version_major": 2,
       "version_minor": 0
      },
      "text/plain": [
       "Validating:   0%|          | 0/100 [00:00<?, ?it/s]"
      ]
     },
     "metadata": {},
     "output_type": "display_data"
    },
    {
     "name": "stdout",
     "output_type": "stream",
     "text": [
      "\n",
      "Epoch [37/100]\n"
     ]
    },
    {
     "data": {
      "application/vnd.jupyter.widget-view+json": {
       "model_id": "a77465d9dfbe47ca8eb77882a6c8368b",
       "version_major": 2,
       "version_minor": 0
      },
      "text/plain": [
       "Training:   0%|          | 0/800 [00:00<?, ?it/s]"
      ]
     },
     "metadata": {},
     "output_type": "display_data"
    },
    {
     "data": {
      "application/vnd.jupyter.widget-view+json": {
       "model_id": "02c18249dd8246b2bc70b4d8ddbf61c7",
       "version_major": 2,
       "version_minor": 0
      },
      "text/plain": [
       "Validating:   0%|          | 0/100 [00:00<?, ?it/s]"
      ]
     },
     "metadata": {},
     "output_type": "display_data"
    },
    {
     "name": "stdout",
     "output_type": "stream",
     "text": [
      "\n",
      "Epoch [38/100]\n"
     ]
    },
    {
     "data": {
      "application/vnd.jupyter.widget-view+json": {
       "model_id": "3419578623d0406ea9e86e33bb61980e",
       "version_major": 2,
       "version_minor": 0
      },
      "text/plain": [
       "Training:   0%|          | 0/800 [00:00<?, ?it/s]"
      ]
     },
     "metadata": {},
     "output_type": "display_data"
    },
    {
     "data": {
      "application/vnd.jupyter.widget-view+json": {
       "model_id": "279914142ca5433882498b4091a80715",
       "version_major": 2,
       "version_minor": 0
      },
      "text/plain": [
       "Validating:   0%|          | 0/100 [00:00<?, ?it/s]"
      ]
     },
     "metadata": {},
     "output_type": "display_data"
    },
    {
     "name": "stdout",
     "output_type": "stream",
     "text": [
      "\n",
      "Epoch [39/100]\n"
     ]
    },
    {
     "data": {
      "application/vnd.jupyter.widget-view+json": {
       "model_id": "93c8879270b942c58e17af623c90c7bd",
       "version_major": 2,
       "version_minor": 0
      },
      "text/plain": [
       "Training:   0%|          | 0/800 [00:00<?, ?it/s]"
      ]
     },
     "metadata": {},
     "output_type": "display_data"
    },
    {
     "data": {
      "application/vnd.jupyter.widget-view+json": {
       "model_id": "c5b5c2b884a14b19a47799dc32bfc600",
       "version_major": 2,
       "version_minor": 0
      },
      "text/plain": [
       "Validating:   0%|          | 0/100 [00:00<?, ?it/s]"
      ]
     },
     "metadata": {},
     "output_type": "display_data"
    },
    {
     "name": "stdout",
     "output_type": "stream",
     "text": [
      "\n",
      "Epoch [40/100]\n"
     ]
    },
    {
     "data": {
      "application/vnd.jupyter.widget-view+json": {
       "model_id": "d7aadbd0fa184496ac6978bdfc0b6507",
       "version_major": 2,
       "version_minor": 0
      },
      "text/plain": [
       "Training:   0%|          | 0/800 [00:00<?, ?it/s]"
      ]
     },
     "metadata": {},
     "output_type": "display_data"
    },
    {
     "data": {
      "application/vnd.jupyter.widget-view+json": {
       "model_id": "7bbeeff0900c48f1a05b4cd6adcac660",
       "version_major": 2,
       "version_minor": 0
      },
      "text/plain": [
       "Validating:   0%|          | 0/100 [00:00<?, ?it/s]"
      ]
     },
     "metadata": {},
     "output_type": "display_data"
    },
    {
     "name": "stdout",
     "output_type": "stream",
     "text": [
      "\n",
      "Epoch [41/100]\n"
     ]
    },
    {
     "data": {
      "application/vnd.jupyter.widget-view+json": {
       "model_id": "b026b66ea349453ab9c3cd04cd97aea3",
       "version_major": 2,
       "version_minor": 0
      },
      "text/plain": [
       "Training:   0%|          | 0/800 [00:00<?, ?it/s]"
      ]
     },
     "metadata": {},
     "output_type": "display_data"
    },
    {
     "data": {
      "application/vnd.jupyter.widget-view+json": {
       "model_id": "1936ec915aaa4bb09608c76ca0d35056",
       "version_major": 2,
       "version_minor": 0
      },
      "text/plain": [
       "Validating:   0%|          | 0/100 [00:00<?, ?it/s]"
      ]
     },
     "metadata": {},
     "output_type": "display_data"
    },
    {
     "name": "stdout",
     "output_type": "stream",
     "text": [
      "\n",
      "Epoch [42/100]\n"
     ]
    },
    {
     "data": {
      "application/vnd.jupyter.widget-view+json": {
       "model_id": "e8e49402c62444d897f1d71ab1a7e8de",
       "version_major": 2,
       "version_minor": 0
      },
      "text/plain": [
       "Training:   0%|          | 0/800 [00:00<?, ?it/s]"
      ]
     },
     "metadata": {},
     "output_type": "display_data"
    },
    {
     "data": {
      "application/vnd.jupyter.widget-view+json": {
       "model_id": "7db3c018126749c98a506b0d7599b7bc",
       "version_major": 2,
       "version_minor": 0
      },
      "text/plain": [
       "Validating:   0%|          | 0/100 [00:00<?, ?it/s]"
      ]
     },
     "metadata": {},
     "output_type": "display_data"
    },
    {
     "name": "stdout",
     "output_type": "stream",
     "text": [
      "\n",
      "Epoch [43/100]\n"
     ]
    },
    {
     "data": {
      "application/vnd.jupyter.widget-view+json": {
       "model_id": "8082cee3b0cc43d0a34e8a7cd87e232f",
       "version_major": 2,
       "version_minor": 0
      },
      "text/plain": [
       "Training:   0%|          | 0/800 [00:00<?, ?it/s]"
      ]
     },
     "metadata": {},
     "output_type": "display_data"
    },
    {
     "data": {
      "application/vnd.jupyter.widget-view+json": {
       "model_id": "19561de08d954266a9209425f68c7866",
       "version_major": 2,
       "version_minor": 0
      },
      "text/plain": [
       "Validating:   0%|          | 0/100 [00:00<?, ?it/s]"
      ]
     },
     "metadata": {},
     "output_type": "display_data"
    },
    {
     "name": "stdout",
     "output_type": "stream",
     "text": [
      "\n",
      "Epoch [44/100]\n"
     ]
    },
    {
     "data": {
      "application/vnd.jupyter.widget-view+json": {
       "model_id": "963001535c4347049f7d360522574f83",
       "version_major": 2,
       "version_minor": 0
      },
      "text/plain": [
       "Training:   0%|          | 0/800 [00:00<?, ?it/s]"
      ]
     },
     "metadata": {},
     "output_type": "display_data"
    },
    {
     "data": {
      "application/vnd.jupyter.widget-view+json": {
       "model_id": "1f25ef5e7a6f4053bec6af606bde0173",
       "version_major": 2,
       "version_minor": 0
      },
      "text/plain": [
       "Validating:   0%|          | 0/100 [00:00<?, ?it/s]"
      ]
     },
     "metadata": {},
     "output_type": "display_data"
    },
    {
     "name": "stdout",
     "output_type": "stream",
     "text": [
      "\n",
      "Epoch [45/100]\n"
     ]
    },
    {
     "data": {
      "application/vnd.jupyter.widget-view+json": {
       "model_id": "34e0b66c79484024b7059ce09be61168",
       "version_major": 2,
       "version_minor": 0
      },
      "text/plain": [
       "Training:   0%|          | 0/800 [00:00<?, ?it/s]"
      ]
     },
     "metadata": {},
     "output_type": "display_data"
    },
    {
     "data": {
      "application/vnd.jupyter.widget-view+json": {
       "model_id": "20c2ffa092484a1fb761b6db627c3d0f",
       "version_major": 2,
       "version_minor": 0
      },
      "text/plain": [
       "Validating:   0%|          | 0/100 [00:00<?, ?it/s]"
      ]
     },
     "metadata": {},
     "output_type": "display_data"
    },
    {
     "name": "stdout",
     "output_type": "stream",
     "text": [
      "\n",
      "Epoch [46/100]\n"
     ]
    },
    {
     "data": {
      "application/vnd.jupyter.widget-view+json": {
       "model_id": "ea78f2f65f7141e89818390210239486",
       "version_major": 2,
       "version_minor": 0
      },
      "text/plain": [
       "Training:   0%|          | 0/800 [00:00<?, ?it/s]"
      ]
     },
     "metadata": {},
     "output_type": "display_data"
    },
    {
     "data": {
      "application/vnd.jupyter.widget-view+json": {
       "model_id": "7ee64c54db224afdbfb20c6f029ade5e",
       "version_major": 2,
       "version_minor": 0
      },
      "text/plain": [
       "Validating:   0%|          | 0/100 [00:00<?, ?it/s]"
      ]
     },
     "metadata": {},
     "output_type": "display_data"
    },
    {
     "name": "stdout",
     "output_type": "stream",
     "text": [
      "\n",
      "Epoch [47/100]\n"
     ]
    },
    {
     "data": {
      "application/vnd.jupyter.widget-view+json": {
       "model_id": "5f79749bc42445fe937ed08154a121fe",
       "version_major": 2,
       "version_minor": 0
      },
      "text/plain": [
       "Training:   0%|          | 0/800 [00:00<?, ?it/s]"
      ]
     },
     "metadata": {},
     "output_type": "display_data"
    },
    {
     "data": {
      "application/vnd.jupyter.widget-view+json": {
       "model_id": "dcf32447d8f34c1a88b6f8853621f366",
       "version_major": 2,
       "version_minor": 0
      },
      "text/plain": [
       "Validating:   0%|          | 0/100 [00:00<?, ?it/s]"
      ]
     },
     "metadata": {},
     "output_type": "display_data"
    },
    {
     "name": "stdout",
     "output_type": "stream",
     "text": [
      "\n",
      "Epoch [48/100]\n"
     ]
    },
    {
     "data": {
      "application/vnd.jupyter.widget-view+json": {
       "model_id": "8286192074ea4829a43e898c4172f5e6",
       "version_major": 2,
       "version_minor": 0
      },
      "text/plain": [
       "Training:   0%|          | 0/800 [00:00<?, ?it/s]"
      ]
     },
     "metadata": {},
     "output_type": "display_data"
    },
    {
     "data": {
      "application/vnd.jupyter.widget-view+json": {
       "model_id": "e35bc0ea83dc4ab7a3a955b638630439",
       "version_major": 2,
       "version_minor": 0
      },
      "text/plain": [
       "Validating:   0%|          | 0/100 [00:00<?, ?it/s]"
      ]
     },
     "metadata": {},
     "output_type": "display_data"
    },
    {
     "name": "stdout",
     "output_type": "stream",
     "text": [
      "\n",
      "Epoch [49/100]\n"
     ]
    },
    {
     "data": {
      "application/vnd.jupyter.widget-view+json": {
       "model_id": "0bb030132eb14a3298bd94e5654d59cc",
       "version_major": 2,
       "version_minor": 0
      },
      "text/plain": [
       "Training:   0%|          | 0/800 [00:00<?, ?it/s]"
      ]
     },
     "metadata": {},
     "output_type": "display_data"
    },
    {
     "data": {
      "application/vnd.jupyter.widget-view+json": {
       "model_id": "63b713675193426e88566578027324c0",
       "version_major": 2,
       "version_minor": 0
      },
      "text/plain": [
       "Validating:   0%|          | 0/100 [00:00<?, ?it/s]"
      ]
     },
     "metadata": {},
     "output_type": "display_data"
    },
    {
     "name": "stdout",
     "output_type": "stream",
     "text": [
      "\n",
      "Epoch [50/100]\n"
     ]
    },
    {
     "data": {
      "application/vnd.jupyter.widget-view+json": {
       "model_id": "5cc967f5264743ecbdee72f7fe87652a",
       "version_major": 2,
       "version_minor": 0
      },
      "text/plain": [
       "Training:   0%|          | 0/800 [00:00<?, ?it/s]"
      ]
     },
     "metadata": {},
     "output_type": "display_data"
    },
    {
     "data": {
      "application/vnd.jupyter.widget-view+json": {
       "model_id": "e1064aadb77240b3ba088e2684ad6409",
       "version_major": 2,
       "version_minor": 0
      },
      "text/plain": [
       "Validating:   0%|          | 0/100 [00:00<?, ?it/s]"
      ]
     },
     "metadata": {},
     "output_type": "display_data"
    },
    {
     "name": "stdout",
     "output_type": "stream",
     "text": [
      "\n",
      "Epoch [51/100]\n"
     ]
    },
    {
     "data": {
      "application/vnd.jupyter.widget-view+json": {
       "model_id": "f2938a50dcab4eeea0757ebef84a3184",
       "version_major": 2,
       "version_minor": 0
      },
      "text/plain": [
       "Training:   0%|          | 0/800 [00:00<?, ?it/s]"
      ]
     },
     "metadata": {},
     "output_type": "display_data"
    },
    {
     "data": {
      "application/vnd.jupyter.widget-view+json": {
       "model_id": "63deb4794c734d14bd6810b69168dd00",
       "version_major": 2,
       "version_minor": 0
      },
      "text/plain": [
       "Validating:   0%|          | 0/100 [00:00<?, ?it/s]"
      ]
     },
     "metadata": {},
     "output_type": "display_data"
    },
    {
     "name": "stdout",
     "output_type": "stream",
     "text": [
      "\n",
      "Epoch [52/100]\n"
     ]
    },
    {
     "data": {
      "application/vnd.jupyter.widget-view+json": {
       "model_id": "8ee3475a7db141dd98a392f782d96d52",
       "version_major": 2,
       "version_minor": 0
      },
      "text/plain": [
       "Training:   0%|          | 0/800 [00:00<?, ?it/s]"
      ]
     },
     "metadata": {},
     "output_type": "display_data"
    },
    {
     "data": {
      "application/vnd.jupyter.widget-view+json": {
       "model_id": "f7d05bd1b91b46a9b403520cc25f4843",
       "version_major": 2,
       "version_minor": 0
      },
      "text/plain": [
       "Validating:   0%|          | 0/100 [00:00<?, ?it/s]"
      ]
     },
     "metadata": {},
     "output_type": "display_data"
    },
    {
     "name": "stdout",
     "output_type": "stream",
     "text": [
      "\n",
      "Epoch [53/100]\n"
     ]
    },
    {
     "data": {
      "application/vnd.jupyter.widget-view+json": {
       "model_id": "d83b08a66c8a4b588b7c64832b2051cd",
       "version_major": 2,
       "version_minor": 0
      },
      "text/plain": [
       "Training:   0%|          | 0/800 [00:00<?, ?it/s]"
      ]
     },
     "metadata": {},
     "output_type": "display_data"
    },
    {
     "data": {
      "application/vnd.jupyter.widget-view+json": {
       "model_id": "45eb3dcfdd3543fd9524697f41347be9",
       "version_major": 2,
       "version_minor": 0
      },
      "text/plain": [
       "Validating:   0%|          | 0/100 [00:00<?, ?it/s]"
      ]
     },
     "metadata": {},
     "output_type": "display_data"
    },
    {
     "name": "stdout",
     "output_type": "stream",
     "text": [
      "\n",
      "Epoch [54/100]\n"
     ]
    },
    {
     "data": {
      "application/vnd.jupyter.widget-view+json": {
       "model_id": "f03a321a736d43029aeb50a9696737e6",
       "version_major": 2,
       "version_minor": 0
      },
      "text/plain": [
       "Training:   0%|          | 0/800 [00:00<?, ?it/s]"
      ]
     },
     "metadata": {},
     "output_type": "display_data"
    },
    {
     "data": {
      "application/vnd.jupyter.widget-view+json": {
       "model_id": "02d2975634a44f30b5b98f5e8ea6a5e1",
       "version_major": 2,
       "version_minor": 0
      },
      "text/plain": [
       "Validating:   0%|          | 0/100 [00:00<?, ?it/s]"
      ]
     },
     "metadata": {},
     "output_type": "display_data"
    },
    {
     "name": "stdout",
     "output_type": "stream",
     "text": [
      "\n",
      "Epoch [55/100]\n"
     ]
    },
    {
     "data": {
      "application/vnd.jupyter.widget-view+json": {
       "model_id": "c558d6e1d8284ba1a87e958d48e2018f",
       "version_major": 2,
       "version_minor": 0
      },
      "text/plain": [
       "Training:   0%|          | 0/800 [00:00<?, ?it/s]"
      ]
     },
     "metadata": {},
     "output_type": "display_data"
    },
    {
     "data": {
      "application/vnd.jupyter.widget-view+json": {
       "model_id": "c61e3f02423a48c7bf3da669c3b5fab6",
       "version_major": 2,
       "version_minor": 0
      },
      "text/plain": [
       "Validating:   0%|          | 0/100 [00:00<?, ?it/s]"
      ]
     },
     "metadata": {},
     "output_type": "display_data"
    },
    {
     "name": "stdout",
     "output_type": "stream",
     "text": [
      "\n",
      "Epoch [56/100]\n"
     ]
    },
    {
     "data": {
      "application/vnd.jupyter.widget-view+json": {
       "model_id": "117b6fbabac94eac992ff48c8a083ccd",
       "version_major": 2,
       "version_minor": 0
      },
      "text/plain": [
       "Training:   0%|          | 0/800 [00:00<?, ?it/s]"
      ]
     },
     "metadata": {},
     "output_type": "display_data"
    },
    {
     "data": {
      "application/vnd.jupyter.widget-view+json": {
       "model_id": "1b60dde9a1ed4915abb598318b6703f7",
       "version_major": 2,
       "version_minor": 0
      },
      "text/plain": [
       "Validating:   0%|          | 0/100 [00:00<?, ?it/s]"
      ]
     },
     "metadata": {},
     "output_type": "display_data"
    },
    {
     "name": "stdout",
     "output_type": "stream",
     "text": [
      "\n",
      "Epoch [57/100]\n"
     ]
    },
    {
     "data": {
      "application/vnd.jupyter.widget-view+json": {
       "model_id": "13c92b15a564465e984a0ceba6153fe0",
       "version_major": 2,
       "version_minor": 0
      },
      "text/plain": [
       "Training:   0%|          | 0/800 [00:00<?, ?it/s]"
      ]
     },
     "metadata": {},
     "output_type": "display_data"
    },
    {
     "data": {
      "application/vnd.jupyter.widget-view+json": {
       "model_id": "31f0e17d4d854fa49c5ba2723894a07b",
       "version_major": 2,
       "version_minor": 0
      },
      "text/plain": [
       "Validating:   0%|          | 0/100 [00:00<?, ?it/s]"
      ]
     },
     "metadata": {},
     "output_type": "display_data"
    },
    {
     "name": "stdout",
     "output_type": "stream",
     "text": [
      "\n",
      "Epoch [58/100]\n"
     ]
    },
    {
     "data": {
      "application/vnd.jupyter.widget-view+json": {
       "model_id": "4d3ba4fb83ea4e5c89516dee10bcbf49",
       "version_major": 2,
       "version_minor": 0
      },
      "text/plain": [
       "Training:   0%|          | 0/800 [00:00<?, ?it/s]"
      ]
     },
     "metadata": {},
     "output_type": "display_data"
    },
    {
     "data": {
      "application/vnd.jupyter.widget-view+json": {
       "model_id": "37f9f1e999884d80ae9d36c2003d986b",
       "version_major": 2,
       "version_minor": 0
      },
      "text/plain": [
       "Validating:   0%|          | 0/100 [00:00<?, ?it/s]"
      ]
     },
     "metadata": {},
     "output_type": "display_data"
    },
    {
     "name": "stdout",
     "output_type": "stream",
     "text": [
      "\n",
      "Epoch [59/100]\n"
     ]
    },
    {
     "data": {
      "application/vnd.jupyter.widget-view+json": {
       "model_id": "593689102c1846edaa13199230557709",
       "version_major": 2,
       "version_minor": 0
      },
      "text/plain": [
       "Training:   0%|          | 0/800 [00:00<?, ?it/s]"
      ]
     },
     "metadata": {},
     "output_type": "display_data"
    },
    {
     "data": {
      "application/vnd.jupyter.widget-view+json": {
       "model_id": "f6e43dc6829c405ab25ca24b937f4b92",
       "version_major": 2,
       "version_minor": 0
      },
      "text/plain": [
       "Validating:   0%|          | 0/100 [00:00<?, ?it/s]"
      ]
     },
     "metadata": {},
     "output_type": "display_data"
    },
    {
     "name": "stdout",
     "output_type": "stream",
     "text": [
      "\n",
      "Epoch [60/100]\n"
     ]
    },
    {
     "data": {
      "application/vnd.jupyter.widget-view+json": {
       "model_id": "3dfd6162a8544c5cb1f2c6a688dbff35",
       "version_major": 2,
       "version_minor": 0
      },
      "text/plain": [
       "Training:   0%|          | 0/800 [00:00<?, ?it/s]"
      ]
     },
     "metadata": {},
     "output_type": "display_data"
    },
    {
     "data": {
      "application/vnd.jupyter.widget-view+json": {
       "model_id": "a4570a32fd0148e28bc92e7f4b1fa0ce",
       "version_major": 2,
       "version_minor": 0
      },
      "text/plain": [
       "Validating:   0%|          | 0/100 [00:00<?, ?it/s]"
      ]
     },
     "metadata": {},
     "output_type": "display_data"
    },
    {
     "name": "stdout",
     "output_type": "stream",
     "text": [
      "\n",
      "Epoch [61/100]\n"
     ]
    },
    {
     "data": {
      "application/vnd.jupyter.widget-view+json": {
       "model_id": "69f6b5f3f5ae403ebc6420bb10147c91",
       "version_major": 2,
       "version_minor": 0
      },
      "text/plain": [
       "Training:   0%|          | 0/800 [00:00<?, ?it/s]"
      ]
     },
     "metadata": {},
     "output_type": "display_data"
    },
    {
     "data": {
      "application/vnd.jupyter.widget-view+json": {
       "model_id": "98df6ea1cc6e4d30b12d316a70f3f8e3",
       "version_major": 2,
       "version_minor": 0
      },
      "text/plain": [
       "Validating:   0%|          | 0/100 [00:00<?, ?it/s]"
      ]
     },
     "metadata": {},
     "output_type": "display_data"
    },
    {
     "name": "stdout",
     "output_type": "stream",
     "text": [
      "\n",
      "Epoch [62/100]\n"
     ]
    },
    {
     "data": {
      "application/vnd.jupyter.widget-view+json": {
       "model_id": "fd2277c2263e4e7b88addb2a5c46a833",
       "version_major": 2,
       "version_minor": 0
      },
      "text/plain": [
       "Training:   0%|          | 0/800 [00:00<?, ?it/s]"
      ]
     },
     "metadata": {},
     "output_type": "display_data"
    },
    {
     "data": {
      "application/vnd.jupyter.widget-view+json": {
       "model_id": "40b60c7e0e6e4ff39f2014fe07ab87f4",
       "version_major": 2,
       "version_minor": 0
      },
      "text/plain": [
       "Validating:   0%|          | 0/100 [00:00<?, ?it/s]"
      ]
     },
     "metadata": {},
     "output_type": "display_data"
    },
    {
     "name": "stdout",
     "output_type": "stream",
     "text": [
      "\n",
      "Epoch [63/100]\n"
     ]
    },
    {
     "data": {
      "application/vnd.jupyter.widget-view+json": {
       "model_id": "38eb7af2e0094800a6dbbee314f32f76",
       "version_major": 2,
       "version_minor": 0
      },
      "text/plain": [
       "Training:   0%|          | 0/800 [00:00<?, ?it/s]"
      ]
     },
     "metadata": {},
     "output_type": "display_data"
    },
    {
     "data": {
      "application/vnd.jupyter.widget-view+json": {
       "model_id": "ae76771f2b5341db9180626ec21b9777",
       "version_major": 2,
       "version_minor": 0
      },
      "text/plain": [
       "Validating:   0%|          | 0/100 [00:00<?, ?it/s]"
      ]
     },
     "metadata": {},
     "output_type": "display_data"
    },
    {
     "name": "stdout",
     "output_type": "stream",
     "text": [
      "\n",
      "Epoch [64/100]\n"
     ]
    },
    {
     "data": {
      "application/vnd.jupyter.widget-view+json": {
       "model_id": "4c6037495b6542a1910ea0bdca8ecbef",
       "version_major": 2,
       "version_minor": 0
      },
      "text/plain": [
       "Training:   0%|          | 0/800 [00:00<?, ?it/s]"
      ]
     },
     "metadata": {},
     "output_type": "display_data"
    },
    {
     "data": {
      "application/vnd.jupyter.widget-view+json": {
       "model_id": "dccdf29d792240ad9e9e28c39306e072",
       "version_major": 2,
       "version_minor": 0
      },
      "text/plain": [
       "Validating:   0%|          | 0/100 [00:00<?, ?it/s]"
      ]
     },
     "metadata": {},
     "output_type": "display_data"
    },
    {
     "name": "stdout",
     "output_type": "stream",
     "text": [
      "\n",
      "Epoch [65/100]\n"
     ]
    },
    {
     "data": {
      "application/vnd.jupyter.widget-view+json": {
       "model_id": "61afc11b033d47eebeff1d40f5ad6cdb",
       "version_major": 2,
       "version_minor": 0
      },
      "text/plain": [
       "Training:   0%|          | 0/800 [00:00<?, ?it/s]"
      ]
     },
     "metadata": {},
     "output_type": "display_data"
    },
    {
     "data": {
      "application/vnd.jupyter.widget-view+json": {
       "model_id": "0a741c65e9a543bba2a1c61b4fa20135",
       "version_major": 2,
       "version_minor": 0
      },
      "text/plain": [
       "Validating:   0%|          | 0/100 [00:00<?, ?it/s]"
      ]
     },
     "metadata": {},
     "output_type": "display_data"
    },
    {
     "name": "stdout",
     "output_type": "stream",
     "text": [
      "\n",
      "Epoch [66/100]\n"
     ]
    },
    {
     "data": {
      "application/vnd.jupyter.widget-view+json": {
       "model_id": "94dec81b2d574643878f35c5a9888247",
       "version_major": 2,
       "version_minor": 0
      },
      "text/plain": [
       "Training:   0%|          | 0/800 [00:00<?, ?it/s]"
      ]
     },
     "metadata": {},
     "output_type": "display_data"
    },
    {
     "data": {
      "application/vnd.jupyter.widget-view+json": {
       "model_id": "9d4e34644f484b0286eb00284dce3a0b",
       "version_major": 2,
       "version_minor": 0
      },
      "text/plain": [
       "Validating:   0%|          | 0/100 [00:00<?, ?it/s]"
      ]
     },
     "metadata": {},
     "output_type": "display_data"
    },
    {
     "name": "stdout",
     "output_type": "stream",
     "text": [
      "\n",
      "Epoch [67/100]\n"
     ]
    },
    {
     "data": {
      "application/vnd.jupyter.widget-view+json": {
       "model_id": "ac0cc58d586841cb8f2ad9b72d925447",
       "version_major": 2,
       "version_minor": 0
      },
      "text/plain": [
       "Training:   0%|          | 0/800 [00:00<?, ?it/s]"
      ]
     },
     "metadata": {},
     "output_type": "display_data"
    },
    {
     "data": {
      "application/vnd.jupyter.widget-view+json": {
       "model_id": "e28fa075a43c426eabf4411f1381c6ff",
       "version_major": 2,
       "version_minor": 0
      },
      "text/plain": [
       "Validating:   0%|          | 0/100 [00:00<?, ?it/s]"
      ]
     },
     "metadata": {},
     "output_type": "display_data"
    },
    {
     "name": "stdout",
     "output_type": "stream",
     "text": [
      "\n",
      "Epoch [68/100]\n"
     ]
    },
    {
     "data": {
      "application/vnd.jupyter.widget-view+json": {
       "model_id": "4cf71cae68464b9e9e0df3c5aa48f571",
       "version_major": 2,
       "version_minor": 0
      },
      "text/plain": [
       "Training:   0%|          | 0/800 [00:00<?, ?it/s]"
      ]
     },
     "metadata": {},
     "output_type": "display_data"
    },
    {
     "data": {
      "application/vnd.jupyter.widget-view+json": {
       "model_id": "429f4d8651984fe9a303c318bf37db46",
       "version_major": 2,
       "version_minor": 0
      },
      "text/plain": [
       "Validating:   0%|          | 0/100 [00:00<?, ?it/s]"
      ]
     },
     "metadata": {},
     "output_type": "display_data"
    },
    {
     "name": "stdout",
     "output_type": "stream",
     "text": [
      "\n",
      "Epoch [69/100]\n"
     ]
    },
    {
     "data": {
      "application/vnd.jupyter.widget-view+json": {
       "model_id": "0f38e26853414e5ab13a356fd61384fe",
       "version_major": 2,
       "version_minor": 0
      },
      "text/plain": [
       "Training:   0%|          | 0/800 [00:00<?, ?it/s]"
      ]
     },
     "metadata": {},
     "output_type": "display_data"
    },
    {
     "data": {
      "application/vnd.jupyter.widget-view+json": {
       "model_id": "9d0a7e0d4ab8438093f9c80f5b21065e",
       "version_major": 2,
       "version_minor": 0
      },
      "text/plain": [
       "Validating:   0%|          | 0/100 [00:00<?, ?it/s]"
      ]
     },
     "metadata": {},
     "output_type": "display_data"
    },
    {
     "name": "stdout",
     "output_type": "stream",
     "text": [
      "\n",
      "Epoch [70/100]\n"
     ]
    },
    {
     "data": {
      "application/vnd.jupyter.widget-view+json": {
       "model_id": "48cf836ae45847f9877917fcad764c83",
       "version_major": 2,
       "version_minor": 0
      },
      "text/plain": [
       "Training:   0%|          | 0/800 [00:00<?, ?it/s]"
      ]
     },
     "metadata": {},
     "output_type": "display_data"
    },
    {
     "data": {
      "application/vnd.jupyter.widget-view+json": {
       "model_id": "71adaca36b6a49db98c9143f2aa72344",
       "version_major": 2,
       "version_minor": 0
      },
      "text/plain": [
       "Validating:   0%|          | 0/100 [00:00<?, ?it/s]"
      ]
     },
     "metadata": {},
     "output_type": "display_data"
    },
    {
     "name": "stdout",
     "output_type": "stream",
     "text": [
      "\n",
      "Epoch [71/100]\n"
     ]
    },
    {
     "data": {
      "application/vnd.jupyter.widget-view+json": {
       "model_id": "bba33456bb3d42aea55314a4d9a4c231",
       "version_major": 2,
       "version_minor": 0
      },
      "text/plain": [
       "Training:   0%|          | 0/800 [00:00<?, ?it/s]"
      ]
     },
     "metadata": {},
     "output_type": "display_data"
    },
    {
     "data": {
      "application/vnd.jupyter.widget-view+json": {
       "model_id": "c705fd29078f4caf973ff7b9fca5f3a8",
       "version_major": 2,
       "version_minor": 0
      },
      "text/plain": [
       "Validating:   0%|          | 0/100 [00:00<?, ?it/s]"
      ]
     },
     "metadata": {},
     "output_type": "display_data"
    },
    {
     "name": "stdout",
     "output_type": "stream",
     "text": [
      "\n",
      "Epoch [72/100]\n"
     ]
    },
    {
     "data": {
      "application/vnd.jupyter.widget-view+json": {
       "model_id": "7dd9c3488a4a420baa1aa036798dce25",
       "version_major": 2,
       "version_minor": 0
      },
      "text/plain": [
       "Training:   0%|          | 0/800 [00:00<?, ?it/s]"
      ]
     },
     "metadata": {},
     "output_type": "display_data"
    },
    {
     "data": {
      "application/vnd.jupyter.widget-view+json": {
       "model_id": "3f30229058aa41d28ab2d54a8300f324",
       "version_major": 2,
       "version_minor": 0
      },
      "text/plain": [
       "Validating:   0%|          | 0/100 [00:00<?, ?it/s]"
      ]
     },
     "metadata": {},
     "output_type": "display_data"
    },
    {
     "name": "stdout",
     "output_type": "stream",
     "text": [
      "\n",
      "Epoch [73/100]\n"
     ]
    },
    {
     "data": {
      "application/vnd.jupyter.widget-view+json": {
       "model_id": "cd95462a5ac949deb19fc60d9f0a7670",
       "version_major": 2,
       "version_minor": 0
      },
      "text/plain": [
       "Training:   0%|          | 0/800 [00:00<?, ?it/s]"
      ]
     },
     "metadata": {},
     "output_type": "display_data"
    },
    {
     "data": {
      "application/vnd.jupyter.widget-view+json": {
       "model_id": "2fea5f40d70c43d8a75a9c9e27e6344a",
       "version_major": 2,
       "version_minor": 0
      },
      "text/plain": [
       "Validating:   0%|          | 0/100 [00:00<?, ?it/s]"
      ]
     },
     "metadata": {},
     "output_type": "display_data"
    },
    {
     "name": "stdout",
     "output_type": "stream",
     "text": [
      "\n",
      "Epoch [74/100]\n"
     ]
    },
    {
     "data": {
      "application/vnd.jupyter.widget-view+json": {
       "model_id": "13a8ce3714464d1a8d9c68ac533cbc59",
       "version_major": 2,
       "version_minor": 0
      },
      "text/plain": [
       "Training:   0%|          | 0/800 [00:00<?, ?it/s]"
      ]
     },
     "metadata": {},
     "output_type": "display_data"
    },
    {
     "data": {
      "application/vnd.jupyter.widget-view+json": {
       "model_id": "98dd66c03c8b4195867e86f1b2669615",
       "version_major": 2,
       "version_minor": 0
      },
      "text/plain": [
       "Validating:   0%|          | 0/100 [00:00<?, ?it/s]"
      ]
     },
     "metadata": {},
     "output_type": "display_data"
    },
    {
     "name": "stdout",
     "output_type": "stream",
     "text": [
      "\n",
      "Epoch [75/100]\n"
     ]
    },
    {
     "data": {
      "application/vnd.jupyter.widget-view+json": {
       "model_id": "44f89deb2b1c47e8b565144600c24ee9",
       "version_major": 2,
       "version_minor": 0
      },
      "text/plain": [
       "Training:   0%|          | 0/800 [00:00<?, ?it/s]"
      ]
     },
     "metadata": {},
     "output_type": "display_data"
    },
    {
     "data": {
      "application/vnd.jupyter.widget-view+json": {
       "model_id": "a87b18b58a91440592058340b9a860ef",
       "version_major": 2,
       "version_minor": 0
      },
      "text/plain": [
       "Validating:   0%|          | 0/100 [00:00<?, ?it/s]"
      ]
     },
     "metadata": {},
     "output_type": "display_data"
    },
    {
     "name": "stdout",
     "output_type": "stream",
     "text": [
      "\n",
      "Epoch [76/100]\n"
     ]
    },
    {
     "data": {
      "application/vnd.jupyter.widget-view+json": {
       "model_id": "17e08b3a12aa42058679b24000814212",
       "version_major": 2,
       "version_minor": 0
      },
      "text/plain": [
       "Training:   0%|          | 0/800 [00:00<?, ?it/s]"
      ]
     },
     "metadata": {},
     "output_type": "display_data"
    },
    {
     "data": {
      "application/vnd.jupyter.widget-view+json": {
       "model_id": "2f0a2f9dde45456298eca5a59d33e22f",
       "version_major": 2,
       "version_minor": 0
      },
      "text/plain": [
       "Validating:   0%|          | 0/100 [00:00<?, ?it/s]"
      ]
     },
     "metadata": {},
     "output_type": "display_data"
    },
    {
     "name": "stdout",
     "output_type": "stream",
     "text": [
      "\n",
      "Epoch [77/100]\n"
     ]
    },
    {
     "data": {
      "application/vnd.jupyter.widget-view+json": {
       "model_id": "8a8303be78e84127b72baf15d76dd03b",
       "version_major": 2,
       "version_minor": 0
      },
      "text/plain": [
       "Training:   0%|          | 0/800 [00:00<?, ?it/s]"
      ]
     },
     "metadata": {},
     "output_type": "display_data"
    },
    {
     "data": {
      "application/vnd.jupyter.widget-view+json": {
       "model_id": "5cf5bda82cae431ead9267c8a4a5e218",
       "version_major": 2,
       "version_minor": 0
      },
      "text/plain": [
       "Validating:   0%|          | 0/100 [00:00<?, ?it/s]"
      ]
     },
     "metadata": {},
     "output_type": "display_data"
    },
    {
     "name": "stdout",
     "output_type": "stream",
     "text": [
      "\n",
      "Epoch [78/100]\n"
     ]
    },
    {
     "data": {
      "application/vnd.jupyter.widget-view+json": {
       "model_id": "a55a341faffc4163b83759d576e6fc5f",
       "version_major": 2,
       "version_minor": 0
      },
      "text/plain": [
       "Training:   0%|          | 0/800 [00:00<?, ?it/s]"
      ]
     },
     "metadata": {},
     "output_type": "display_data"
    },
    {
     "data": {
      "application/vnd.jupyter.widget-view+json": {
       "model_id": "c618130a2b0e41ac8b48ba4f5bea9148",
       "version_major": 2,
       "version_minor": 0
      },
      "text/plain": [
       "Validating:   0%|          | 0/100 [00:00<?, ?it/s]"
      ]
     },
     "metadata": {},
     "output_type": "display_data"
    },
    {
     "name": "stdout",
     "output_type": "stream",
     "text": [
      "\n",
      "Epoch [79/100]\n"
     ]
    },
    {
     "data": {
      "application/vnd.jupyter.widget-view+json": {
       "model_id": "a4c65b2257dd4f47ac648c97c6ded4c3",
       "version_major": 2,
       "version_minor": 0
      },
      "text/plain": [
       "Training:   0%|          | 0/800 [00:00<?, ?it/s]"
      ]
     },
     "metadata": {},
     "output_type": "display_data"
    },
    {
     "data": {
      "application/vnd.jupyter.widget-view+json": {
       "model_id": "49e732ccef8b4c5c8ab38a34e22253b5",
       "version_major": 2,
       "version_minor": 0
      },
      "text/plain": [
       "Validating:   0%|          | 0/100 [00:00<?, ?it/s]"
      ]
     },
     "metadata": {},
     "output_type": "display_data"
    },
    {
     "name": "stdout",
     "output_type": "stream",
     "text": [
      "\n",
      "Epoch [80/100]\n"
     ]
    },
    {
     "data": {
      "application/vnd.jupyter.widget-view+json": {
       "model_id": "72027f1b856d40329e14151437187eb8",
       "version_major": 2,
       "version_minor": 0
      },
      "text/plain": [
       "Training:   0%|          | 0/800 [00:00<?, ?it/s]"
      ]
     },
     "metadata": {},
     "output_type": "display_data"
    },
    {
     "data": {
      "application/vnd.jupyter.widget-view+json": {
       "model_id": "a7baa7f971db419cb80ad10a5b9307cf",
       "version_major": 2,
       "version_minor": 0
      },
      "text/plain": [
       "Validating:   0%|          | 0/100 [00:00<?, ?it/s]"
      ]
     },
     "metadata": {},
     "output_type": "display_data"
    },
    {
     "name": "stdout",
     "output_type": "stream",
     "text": [
      "\n",
      "Epoch [81/100]\n"
     ]
    },
    {
     "data": {
      "application/vnd.jupyter.widget-view+json": {
       "model_id": "ab27bf48a37141d5a240555cc45810cc",
       "version_major": 2,
       "version_minor": 0
      },
      "text/plain": [
       "Training:   0%|          | 0/800 [00:00<?, ?it/s]"
      ]
     },
     "metadata": {},
     "output_type": "display_data"
    },
    {
     "data": {
      "application/vnd.jupyter.widget-view+json": {
       "model_id": "08046d1590be40009bec389564f4ec67",
       "version_major": 2,
       "version_minor": 0
      },
      "text/plain": [
       "Validating:   0%|          | 0/100 [00:00<?, ?it/s]"
      ]
     },
     "metadata": {},
     "output_type": "display_data"
    },
    {
     "name": "stdout",
     "output_type": "stream",
     "text": [
      "\n",
      "Epoch [82/100]\n"
     ]
    },
    {
     "data": {
      "application/vnd.jupyter.widget-view+json": {
       "model_id": "6377e4c816fc47a1ba6b870ceeab8c75",
       "version_major": 2,
       "version_minor": 0
      },
      "text/plain": [
       "Training:   0%|          | 0/800 [00:00<?, ?it/s]"
      ]
     },
     "metadata": {},
     "output_type": "display_data"
    },
    {
     "data": {
      "application/vnd.jupyter.widget-view+json": {
       "model_id": "30603e32997648b59a08660a292a8a16",
       "version_major": 2,
       "version_minor": 0
      },
      "text/plain": [
       "Validating:   0%|          | 0/100 [00:00<?, ?it/s]"
      ]
     },
     "metadata": {},
     "output_type": "display_data"
    },
    {
     "name": "stdout",
     "output_type": "stream",
     "text": [
      "\n",
      "Epoch [83/100]\n"
     ]
    },
    {
     "data": {
      "application/vnd.jupyter.widget-view+json": {
       "model_id": "2d61adfc128e4d32ab140cd6a78aa15f",
       "version_major": 2,
       "version_minor": 0
      },
      "text/plain": [
       "Training:   0%|          | 0/800 [00:00<?, ?it/s]"
      ]
     },
     "metadata": {},
     "output_type": "display_data"
    },
    {
     "data": {
      "application/vnd.jupyter.widget-view+json": {
       "model_id": "c99f880279de4dc18379009a6721f9dc",
       "version_major": 2,
       "version_minor": 0
      },
      "text/plain": [
       "Validating:   0%|          | 0/100 [00:00<?, ?it/s]"
      ]
     },
     "metadata": {},
     "output_type": "display_data"
    },
    {
     "name": "stdout",
     "output_type": "stream",
     "text": [
      "\n",
      "Epoch [84/100]\n"
     ]
    },
    {
     "data": {
      "application/vnd.jupyter.widget-view+json": {
       "model_id": "d23ca9d022424a17a0d4ee84983852d0",
       "version_major": 2,
       "version_minor": 0
      },
      "text/plain": [
       "Training:   0%|          | 0/800 [00:00<?, ?it/s]"
      ]
     },
     "metadata": {},
     "output_type": "display_data"
    },
    {
     "data": {
      "application/vnd.jupyter.widget-view+json": {
       "model_id": "d8721852d746423c91873aebe7dd662d",
       "version_major": 2,
       "version_minor": 0
      },
      "text/plain": [
       "Validating:   0%|          | 0/100 [00:00<?, ?it/s]"
      ]
     },
     "metadata": {},
     "output_type": "display_data"
    },
    {
     "name": "stdout",
     "output_type": "stream",
     "text": [
      "\n",
      "Epoch [85/100]\n"
     ]
    },
    {
     "data": {
      "application/vnd.jupyter.widget-view+json": {
       "model_id": "190e54b939ef427faf50f9cb508ba41b",
       "version_major": 2,
       "version_minor": 0
      },
      "text/plain": [
       "Training:   0%|          | 0/800 [00:00<?, ?it/s]"
      ]
     },
     "metadata": {},
     "output_type": "display_data"
    },
    {
     "data": {
      "application/vnd.jupyter.widget-view+json": {
       "model_id": "e3f51abc6af547e1a03c81230ac49171",
       "version_major": 2,
       "version_minor": 0
      },
      "text/plain": [
       "Validating:   0%|          | 0/100 [00:00<?, ?it/s]"
      ]
     },
     "metadata": {},
     "output_type": "display_data"
    },
    {
     "name": "stdout",
     "output_type": "stream",
     "text": [
      "\n",
      "Epoch [86/100]\n"
     ]
    },
    {
     "data": {
      "application/vnd.jupyter.widget-view+json": {
       "model_id": "5ce811c009e745659b964a3653e4a1df",
       "version_major": 2,
       "version_minor": 0
      },
      "text/plain": [
       "Training:   0%|          | 0/800 [00:00<?, ?it/s]"
      ]
     },
     "metadata": {},
     "output_type": "display_data"
    },
    {
     "data": {
      "application/vnd.jupyter.widget-view+json": {
       "model_id": "ea6890a1b0b54c62baa1b66cf284e230",
       "version_major": 2,
       "version_minor": 0
      },
      "text/plain": [
       "Validating:   0%|          | 0/100 [00:00<?, ?it/s]"
      ]
     },
     "metadata": {},
     "output_type": "display_data"
    },
    {
     "name": "stdout",
     "output_type": "stream",
     "text": [
      "\n",
      "Epoch [87/100]\n"
     ]
    },
    {
     "data": {
      "application/vnd.jupyter.widget-view+json": {
       "model_id": "4d5ba7834f8d4ecf9bb7da3cb66b9f08",
       "version_major": 2,
       "version_minor": 0
      },
      "text/plain": [
       "Training:   0%|          | 0/800 [00:00<?, ?it/s]"
      ]
     },
     "metadata": {},
     "output_type": "display_data"
    },
    {
     "data": {
      "application/vnd.jupyter.widget-view+json": {
       "model_id": "ff794659123a4a408413141e86846e38",
       "version_major": 2,
       "version_minor": 0
      },
      "text/plain": [
       "Validating:   0%|          | 0/100 [00:00<?, ?it/s]"
      ]
     },
     "metadata": {},
     "output_type": "display_data"
    },
    {
     "name": "stdout",
     "output_type": "stream",
     "text": [
      "\n",
      "Epoch [88/100]\n"
     ]
    },
    {
     "data": {
      "application/vnd.jupyter.widget-view+json": {
       "model_id": "b0d9094986a04a56b9506e364b9ce82d",
       "version_major": 2,
       "version_minor": 0
      },
      "text/plain": [
       "Training:   0%|          | 0/800 [00:00<?, ?it/s]"
      ]
     },
     "metadata": {},
     "output_type": "display_data"
    },
    {
     "data": {
      "application/vnd.jupyter.widget-view+json": {
       "model_id": "aad2a4d4c826405fb56c1199b5255550",
       "version_major": 2,
       "version_minor": 0
      },
      "text/plain": [
       "Validating:   0%|          | 0/100 [00:00<?, ?it/s]"
      ]
     },
     "metadata": {},
     "output_type": "display_data"
    },
    {
     "name": "stdout",
     "output_type": "stream",
     "text": [
      "\n",
      "Epoch [89/100]\n"
     ]
    },
    {
     "data": {
      "application/vnd.jupyter.widget-view+json": {
       "model_id": "1f9a2421b02b47c2a88e86ce96d24be1",
       "version_major": 2,
       "version_minor": 0
      },
      "text/plain": [
       "Training:   0%|          | 0/800 [00:00<?, ?it/s]"
      ]
     },
     "metadata": {},
     "output_type": "display_data"
    },
    {
     "data": {
      "application/vnd.jupyter.widget-view+json": {
       "model_id": "0c826ad1df2743eaae5850133fadde37",
       "version_major": 2,
       "version_minor": 0
      },
      "text/plain": [
       "Validating:   0%|          | 0/100 [00:00<?, ?it/s]"
      ]
     },
     "metadata": {},
     "output_type": "display_data"
    },
    {
     "name": "stdout",
     "output_type": "stream",
     "text": [
      "\n",
      "Epoch [90/100]\n"
     ]
    },
    {
     "data": {
      "application/vnd.jupyter.widget-view+json": {
       "model_id": "44abca6d8c83411fbc1b25386e0f9eae",
       "version_major": 2,
       "version_minor": 0
      },
      "text/plain": [
       "Training:   0%|          | 0/800 [00:00<?, ?it/s]"
      ]
     },
     "metadata": {},
     "output_type": "display_data"
    },
    {
     "data": {
      "application/vnd.jupyter.widget-view+json": {
       "model_id": "bbcfe0e444194a38a5a6cd56730e8dce",
       "version_major": 2,
       "version_minor": 0
      },
      "text/plain": [
       "Validating:   0%|          | 0/100 [00:00<?, ?it/s]"
      ]
     },
     "metadata": {},
     "output_type": "display_data"
    },
    {
     "name": "stdout",
     "output_type": "stream",
     "text": [
      "\n",
      "Epoch [91/100]\n"
     ]
    },
    {
     "data": {
      "application/vnd.jupyter.widget-view+json": {
       "model_id": "02fed07ce2134ea98a87931e47c47928",
       "version_major": 2,
       "version_minor": 0
      },
      "text/plain": [
       "Training:   0%|          | 0/800 [00:00<?, ?it/s]"
      ]
     },
     "metadata": {},
     "output_type": "display_data"
    },
    {
     "data": {
      "application/vnd.jupyter.widget-view+json": {
       "model_id": "e8a2f901154443388aa11c28e24d5f7f",
       "version_major": 2,
       "version_minor": 0
      },
      "text/plain": [
       "Validating:   0%|          | 0/100 [00:00<?, ?it/s]"
      ]
     },
     "metadata": {},
     "output_type": "display_data"
    },
    {
     "name": "stdout",
     "output_type": "stream",
     "text": [
      "\n",
      "Epoch [92/100]\n"
     ]
    },
    {
     "data": {
      "application/vnd.jupyter.widget-view+json": {
       "model_id": "fa1b124a256c48c5a644ad96268eb566",
       "version_major": 2,
       "version_minor": 0
      },
      "text/plain": [
       "Training:   0%|          | 0/800 [00:00<?, ?it/s]"
      ]
     },
     "metadata": {},
     "output_type": "display_data"
    },
    {
     "data": {
      "application/vnd.jupyter.widget-view+json": {
       "model_id": "0f65302fdc54400daf65b19952227e58",
       "version_major": 2,
       "version_minor": 0
      },
      "text/plain": [
       "Validating:   0%|          | 0/100 [00:00<?, ?it/s]"
      ]
     },
     "metadata": {},
     "output_type": "display_data"
    },
    {
     "name": "stdout",
     "output_type": "stream",
     "text": [
      "\n",
      "Epoch [93/100]\n"
     ]
    },
    {
     "data": {
      "application/vnd.jupyter.widget-view+json": {
       "model_id": "e19f8ff7af4a4bb7ba4f8f9d82c85a3f",
       "version_major": 2,
       "version_minor": 0
      },
      "text/plain": [
       "Training:   0%|          | 0/800 [00:00<?, ?it/s]"
      ]
     },
     "metadata": {},
     "output_type": "display_data"
    },
    {
     "data": {
      "application/vnd.jupyter.widget-view+json": {
       "model_id": "73160843d1e64f9abbc987c84e415472",
       "version_major": 2,
       "version_minor": 0
      },
      "text/plain": [
       "Validating:   0%|          | 0/100 [00:00<?, ?it/s]"
      ]
     },
     "metadata": {},
     "output_type": "display_data"
    },
    {
     "name": "stdout",
     "output_type": "stream",
     "text": [
      "\n",
      "Epoch [94/100]\n"
     ]
    },
    {
     "data": {
      "application/vnd.jupyter.widget-view+json": {
       "model_id": "bb083bfb3b334ac5a5c5610615fbf050",
       "version_major": 2,
       "version_minor": 0
      },
      "text/plain": [
       "Training:   0%|          | 0/800 [00:00<?, ?it/s]"
      ]
     },
     "metadata": {},
     "output_type": "display_data"
    },
    {
     "data": {
      "application/vnd.jupyter.widget-view+json": {
       "model_id": "c69b94e8da1e4615b27a3a420617d621",
       "version_major": 2,
       "version_minor": 0
      },
      "text/plain": [
       "Validating:   0%|          | 0/100 [00:00<?, ?it/s]"
      ]
     },
     "metadata": {},
     "output_type": "display_data"
    },
    {
     "name": "stdout",
     "output_type": "stream",
     "text": [
      "\n",
      "Epoch [95/100]\n"
     ]
    },
    {
     "data": {
      "application/vnd.jupyter.widget-view+json": {
       "model_id": "31f23c0ef28f418f8963881bb59178f8",
       "version_major": 2,
       "version_minor": 0
      },
      "text/plain": [
       "Training:   0%|          | 0/800 [00:00<?, ?it/s]"
      ]
     },
     "metadata": {},
     "output_type": "display_data"
    },
    {
     "data": {
      "application/vnd.jupyter.widget-view+json": {
       "model_id": "e523470fb6904e19a20171933d45c75e",
       "version_major": 2,
       "version_minor": 0
      },
      "text/plain": [
       "Validating:   0%|          | 0/100 [00:00<?, ?it/s]"
      ]
     },
     "metadata": {},
     "output_type": "display_data"
    },
    {
     "name": "stdout",
     "output_type": "stream",
     "text": [
      "\n",
      "Epoch [96/100]\n"
     ]
    },
    {
     "data": {
      "application/vnd.jupyter.widget-view+json": {
       "model_id": "598af4589b2b419a809c343237968c75",
       "version_major": 2,
       "version_minor": 0
      },
      "text/plain": [
       "Training:   0%|          | 0/800 [00:00<?, ?it/s]"
      ]
     },
     "metadata": {},
     "output_type": "display_data"
    },
    {
     "data": {
      "application/vnd.jupyter.widget-view+json": {
       "model_id": "e2cb925c78d244128324bcafefa4a386",
       "version_major": 2,
       "version_minor": 0
      },
      "text/plain": [
       "Validating:   0%|          | 0/100 [00:00<?, ?it/s]"
      ]
     },
     "metadata": {},
     "output_type": "display_data"
    },
    {
     "name": "stdout",
     "output_type": "stream",
     "text": [
      "\n",
      "Epoch [97/100]\n"
     ]
    },
    {
     "data": {
      "application/vnd.jupyter.widget-view+json": {
       "model_id": "155fed0eb05741d4909812aeec8ef559",
       "version_major": 2,
       "version_minor": 0
      },
      "text/plain": [
       "Training:   0%|          | 0/800 [00:00<?, ?it/s]"
      ]
     },
     "metadata": {},
     "output_type": "display_data"
    },
    {
     "data": {
      "application/vnd.jupyter.widget-view+json": {
       "model_id": "f9abba9187354b79b6252aa615fdb75e",
       "version_major": 2,
       "version_minor": 0
      },
      "text/plain": [
       "Validating:   0%|          | 0/100 [00:00<?, ?it/s]"
      ]
     },
     "metadata": {},
     "output_type": "display_data"
    },
    {
     "name": "stdout",
     "output_type": "stream",
     "text": [
      "\n",
      "Epoch [98/100]\n"
     ]
    },
    {
     "data": {
      "application/vnd.jupyter.widget-view+json": {
       "model_id": "4d13626facd3463f9c37b4c96f07cbc5",
       "version_major": 2,
       "version_minor": 0
      },
      "text/plain": [
       "Training:   0%|          | 0/800 [00:00<?, ?it/s]"
      ]
     },
     "metadata": {},
     "output_type": "display_data"
    },
    {
     "data": {
      "application/vnd.jupyter.widget-view+json": {
       "model_id": "ed9aaf29a7564f5e8d295d9df397141e",
       "version_major": 2,
       "version_minor": 0
      },
      "text/plain": [
       "Validating:   0%|          | 0/100 [00:00<?, ?it/s]"
      ]
     },
     "metadata": {},
     "output_type": "display_data"
    },
    {
     "name": "stdout",
     "output_type": "stream",
     "text": [
      "\n",
      "Epoch [99/100]\n"
     ]
    },
    {
     "data": {
      "application/vnd.jupyter.widget-view+json": {
       "model_id": "65731161e0564788b368b4272160216e",
       "version_major": 2,
       "version_minor": 0
      },
      "text/plain": [
       "Training:   0%|          | 0/800 [00:00<?, ?it/s]"
      ]
     },
     "metadata": {},
     "output_type": "display_data"
    },
    {
     "data": {
      "application/vnd.jupyter.widget-view+json": {
       "model_id": "4466414475d045fda8d81ee207ae01e7",
       "version_major": 2,
       "version_minor": 0
      },
      "text/plain": [
       "Validating:   0%|          | 0/100 [00:00<?, ?it/s]"
      ]
     },
     "metadata": {},
     "output_type": "display_data"
    },
    {
     "name": "stdout",
     "output_type": "stream",
     "text": [
      "\n",
      "Epoch [100/100]\n"
     ]
    },
    {
     "data": {
      "application/vnd.jupyter.widget-view+json": {
       "model_id": "5e6b60d4ca5b47248f30ce8bcbc5fb0e",
       "version_major": 2,
       "version_minor": 0
      },
      "text/plain": [
       "Training:   0%|          | 0/800 [00:00<?, ?it/s]"
      ]
     },
     "metadata": {},
     "output_type": "display_data"
    },
    {
     "data": {
      "application/vnd.jupyter.widget-view+json": {
       "model_id": "f643bf36e35943e1aeab5cb909db2916",
       "version_major": 2,
       "version_minor": 0
      },
      "text/plain": [
       "Validating:   0%|          | 0/100 [00:00<?, ?it/s]"
      ]
     },
     "metadata": {},
     "output_type": "display_data"
    }
   ],
   "source": [
    "# Generator and Discriminator initialization\n",
    "generator = ConditionalGraphGenerator(noise_dim=noise_dim, embedding_dim=stats_dim, num_nodes=n_max_nodes).to(device)\n",
    "discriminator = ConditionalGraphDiscriminator(num_nodes=n_max_nodes, embedding_dim=stats_dim).to(device)\n",
    "\n",
    "optimizer_g = Adam(generator.parameters(), lr=0.0001)\n",
    "optimizer_d = Adam(discriminator.parameters(), lr=0.0001)\n",
    "\n",
    "\n",
    "# Training \n",
    "def train(G, D, train_loader, val_loader, optimizer_g, optimizer_d, device, num_epochs):\n",
    "    G.train()\n",
    "    D.train()\n",
    "    \n",
    "    gen_losses = []\n",
    "    disc_losses = []\n",
    "    val_gen_losses = []\n",
    "    val_disc_losses = []\n",
    "    \n",
    "    for epoch in range(num_epochs):\n",
    "        # Initialize epoch losses\n",
    "        gen_loss_epoch = 0.0\n",
    "        disc_loss_epoch = 0.0\n",
    "\n",
    "        # Training loop\n",
    "        print(f\"\\nEpoch [{epoch + 1}/{num_epochs}]\")\n",
    "        train_bar = tqdm(train_loader, desc=\"Training\", leave=True)\n",
    "        for batch in train_bar:\n",
    "            # Move data to the device\n",
    "            batch_adj = batch.A.to(device)  # Real adjacency matrices\n",
    "            batch_stats = batch.stats.to(device)  # Graph statistics\n",
    "            # batch_embeddings = batch.description_embedding.to(device) # Graph description embeddings\n",
    "            \n",
    "            # Train Discriminator\n",
    "            noise = torch.randn(batch_stats.size(0), noise_dim).to(device)\n",
    "            generated_adj = G(noise, batch_stats)\n",
    "            \n",
    "            real_score = D(batch_adj, batch_stats)\n",
    "            fake_score = D(generated_adj, batch_stats)\n",
    "            \n",
    "            disc_loss = -torch.mean(real_score) + torch.mean(fake_score)\n",
    "            \n",
    "            optimizer_d.zero_grad()\n",
    "            disc_loss.backward()\n",
    "            optimizer_d.step()\n",
    "            \n",
    "            # Gradient clipping for the discriminator\n",
    "            for p in D.parameters():\n",
    "                p.data.clamp_(-0.01, 0.01)\n",
    "            \n",
    "            # Train Generator\n",
    "            noise = torch.randn(batch_stats.size(0), noise_dim).to(device)\n",
    "            generated_adj = G(noise, batch_stats)\n",
    "            fake_score = D(generated_adj, batch_stats)\n",
    "            \n",
    "            gen_loss = -torch.mean(fake_score)\n",
    "            \n",
    "            optimizer_g.zero_grad()\n",
    "            gen_loss.backward()\n",
    "            optimizer_g.step()\n",
    "            \n",
    "            # Accumulate losses\n",
    "            gen_loss_epoch += gen_loss.item()\n",
    "            disc_loss_epoch += disc_loss.item()\n",
    "            \n",
    "            # Update tqdm description\n",
    "            train_bar.set_postfix(\n",
    "                Generator_Loss=f\"{gen_loss.item():.4f}\",\n",
    "                Discriminator_Loss=f\"{disc_loss.item():.4f}\"\n",
    "            )\n",
    "        \n",
    "        # Append epoch losses\n",
    "        gen_losses.append(gen_loss_epoch / len(train_loader))\n",
    "        disc_losses.append(disc_loss_epoch / len(train_loader))\n",
    "        \n",
    "        # Validation loop\n",
    "        G.eval()\n",
    "        D.eval()\n",
    "        val_gen_loss = 0.0\n",
    "        val_disc_loss = 0.0\n",
    "        val_bar = tqdm(val_loader, desc=\"Validating\", leave=True)\n",
    "        with torch.no_grad():\n",
    "            for val_batch in val_bar:\n",
    "                val_adj = val_batch.A.to(device)\n",
    "                val_stats = val_batch.stats.to(device)\n",
    "                # val_embeddings = val_batch.description_embedding.to(device)\n",
    "                \n",
    "                val_noise = torch.randn(val_stats.size(0), noise_dim).to(device)\n",
    "                val_generated_adj = G(val_noise, val_stats)\n",
    "                \n",
    "                val_real_score = D(val_adj, val_stats)\n",
    "                val_fake_score = D(val_generated_adj, val_stats)\n",
    "                \n",
    "                val_disc_loss += -torch.mean(val_real_score) + torch.mean(val_fake_score)\n",
    "                val_gen_loss += -torch.mean(val_fake_score)\n",
    "                \n",
    "                # Update tqdm description\n",
    "                val_bar.set_postfix(\n",
    "                    Validation_Generator_Loss=f\"{val_gen_loss:.4f}\",\n",
    "                    Validation_Discriminator_Loss=f\"{val_disc_loss:.4f}\"\n",
    "                )\n",
    "        \n",
    "        # Average the validation losses\n",
    "        val_gen_loss /= len(val_loader)\n",
    "        val_disc_loss /= len(val_loader)\n",
    "        \n",
    "        # Append validation losses\n",
    "        val_gen_losses.append(val_gen_loss.item())\n",
    "        val_disc_losses.append(val_disc_loss.item())\n",
    "    \n",
    "    return gen_losses, disc_losses, val_gen_losses, val_disc_losses\n",
    "\n",
    "\n",
    "# Assuming generator, discriminator, optimizers, and loaders are defined:\n",
    "gen_losses, disc_losses, val_gen_losses, val_disc_losses = train(\n",
    "    G=generator, \n",
    "    D=discriminator, \n",
    "    train_loader=train_loader, \n",
    "    val_loader=val_loader, \n",
    "    optimizer_g=optimizer_g, \n",
    "    optimizer_d=optimizer_d, \n",
    "    device=device, \n",
    "    num_epochs=EPOCHS\n",
    ")"
   ]
  },
  {
   "cell_type": "code",
   "execution_count": 9,
   "metadata": {},
   "outputs": [
    {
     "data": {
      "image/png": "[encoded data removed]",
      "text/plain": [
       "<Figure size 1200x600 with 1 Axes>"
      ]
     },
     "metadata": {},
     "output_type": "display_data"
    }
   ],
   "source": [
    "# Plot losses\n",
    "plt.figure(figsize=(12, 6))\n",
    "plt.plot(gen_losses, label=\"Generator Loss\")\n",
    "plt.plot(disc_losses, label=\"Discriminator Loss\")\n",
    "plt.plot(val_gen_losses, label=\"Validation Generator Loss\")\n",
    "plt.plot(val_disc_losses, label=\"Validation Discriminator Loss\")\n",
    "plt.xlabel(\"Epoch\")\n",
    "plt.ylabel(\"Loss\")\n",
    "plt.legend()\n",
    "plt.show()"
   ]
  },
  {
   "cell_type": "code",
   "execution_count": 10,
   "metadata": {},
   "outputs": [
    {
     "name": "stdout",
     "output_type": "stream",
     "text": [
      "Starting testing and saving to CSV...\n"
     ]
    },
    {
     "data": {
      "application/vnd.jupyter.widget-view+json": {
       "model_id": "921d74740d034579ad18cc4e128539de",
       "version_major": 2,
       "version_minor": 0
      },
      "text/plain": [
       "Processing test set:   0%|          | 0/100 [00:00<?, ?it/s]"
      ]
     },
     "metadata": {},
     "output_type": "display_data"
    },
    {
     "name": "stdout",
     "output_type": "stream",
     "text": [
      "Testing complete. Results saved in ../GAN_condtion_disc2.csv.\n"
     ]
    }
   ],
   "source": [
    "import csv\n",
    "\n",
    "def test_model_to_csv(generator, test_loader, output_csv):\n",
    "    \"\"\"\n",
    "    Test the generator model and save generated graph edges to a CSV file.\n",
    "\n",
    "    Args:\n",
    "        generator (nn.Module): Trained generator model.\n",
    "        test_loader (DataLoader): DataLoader for the test dataset.\n",
    "        output_csv (str): Path to save the CSV file containing graph IDs and edges.\n",
    "\n",
    "    Returns:\n",
    "        None\n",
    "    \"\"\"\n",
    "    generator.eval()  # Set generator to evaluation mode\n",
    "    device = torch.device(\"cuda\" if torch.cuda.is_available() else \"cpu\")\n",
    "    generator.to(device)\n",
    "\n",
    "    # test_adj_matrices = []\n",
    "    test_graphs = []\n",
    "    \n",
    "    print(\"Starting testing and saving to CSV...\")\n",
    "    with open(output_csv, \"w\", newline=\"\") as csvfile:\n",
    "        writer = csv.writer(csvfile)\n",
    "        # Write the header\n",
    "        writer.writerow([\"graph_id\", \"edge_list\"])\n",
    "\n",
    "        with torch.no_grad():  # Disable gradient computation for inference\n",
    "            for data in tqdm(test_loader, desc=\"Processing test set\"):\n",
    "                # Move data to device\n",
    "                data = data.to(device)\n",
    "                \n",
    "                # Extract stats and filenames\n",
    "                stats = data.stats\n",
    "                # description_embedding = data.description_embedding\n",
    "                graph_ids = data.filename\n",
    "\n",
    "                # Generate random noise for the generator\n",
    "                batch_size = stats.size(0)\n",
    "                noise_dim = generator.noise_dim  # Assuming the generator has an attribute for noise dimension\n",
    "                noise = torch.randn(batch_size, noise_dim).to(device)\n",
    "          \n",
    "                # Generate graphs (adjacency matrices) conditioned on description_embedding\n",
    "                generated_adjs = generator(noise, stats)\n",
    "\n",
    "                # Process each generated graph\n",
    "                for i in range(batch_size):\n",
    "                    # Convert adjacency matrix to a NetworkX graph\n",
    "                    adj_matrix = generated_adjs[i].detach().cpu().numpy()\n",
    "                    adj_matrix = np.round(adj_matrix)  # Round to 0 or 1\n",
    "                    # adj_matrix = np.where(adj_matrix > 0.5, 1, 0)  # Threshold to 0 or 1\n",
    "                    adj_matrix = adj_matrix * (1 - np.eye(adj_matrix.shape[0]))  # Remove self-loops\n",
    "                    # test_adj_matrices.append(adj_matrix)\n",
    "                    graph = construct_nx_from_adj(adj_matrix.astype(int))  \n",
    "                    test_graphs.append(graph)\n",
    "                    \n",
    "                    # Convert edges to a list of tuples\n",
    "                    edge_list = list(graph.edges())\n",
    "\n",
    "                    # Format edge list as a string\n",
    "                    edge_list_text = \", \".join([f\"({u}, {v})\" for u, v in edge_list])\n",
    "\n",
    "                    # Write the graph ID and edge list to the CSV\n",
    "                    writer.writerow([graph_ids[i], edge_list_text])\n",
    "\n",
    "    print(f\"Testing complete. Results saved in {output_csv}.\")\n",
    "    return test_graphs\n",
    "    \n",
    "output_csv = \"../GAN_condtion_disc2.csv\"\n",
    "test_graphs = test_model_to_csv(generator, test_loader, output_csv)"
   ]
  },
  {
   "cell_type": "code",
   "execution_count": 11,
   "metadata": {},
   "outputs": [
    {
     "name": "stdout",
     "output_type": "stream",
     "text": [
      "Graph ID: graph_0, Number of nodes: 50, Number of edges: 362\n",
      "Description: This graph comprises 50 nodes and 589 edges. The average degree is equal to 23.56 and there are 3702 triangles in the graph. The global clustering coefficient and the graph's maximum k-core are 0.6226034308779012 and 18 respectively. The graph consists of 3 communities.\n",
      "\n",
      "Graph ID: graph_1, Number of nodes: 47, Number of edges: 105\n",
      "Description: This graph comprises 20 nodes and 19 edges. The average degree is equal to 1.9 and there are 0 triangles in the graph. The global clustering coefficient and the graph's maximum k-core are 0 and 1 respectively. The graph consists of 4 communities.\n",
      "\n",
      "Graph ID: graph_2, Number of nodes: 50, Number of edges: 142\n",
      "Description: This graph comprises 28 nodes and 165 edges. The average degree is equal to 11.785714285714286 and there are 387 triangles in the graph. The global clustering coefficient and the graph's maximum k-core are 0.4742647058823529 and 8 respectively. The graph consists of 3 communities.\n",
      "\n",
      "Graph ID: graph_3, Number of nodes: 50, Number of edges: 408\n",
      "Description: This graph comprises 47 nodes and 1050 edges. The average degree is equal to 44.680851063829785 and there are 14914 triangles in the graph. The global clustering coefficient and the graph's maximum k-core are 0.9736257997127562 and 41 respectively. The graph consists of 1 communities.\n",
      "\n",
      "Graph ID: graph_4, Number of nodes: 48, Number of edges: 114\n",
      "Description: In this graph, there are 25 nodes connected by 75 edges. On average, each node is connected to 6.0 other nodes. Within the graph, there are 22 triangles, forming closed loops of nodes. The global clustering coefficient is 0.176. Additionally, the graph has a maximum k-core of 6 and a number of communities equal to 3.\n",
      "\n",
      "Graph ID: graph_5, Number of nodes: 48, Number of edges: 125\n",
      "Description: In this graph, there are 31 nodes connected by 121 edges. On average, each node is connected to 7.806451612903226 other nodes. Within the graph, there are 144 triangles, forming closed loops of nodes. The global clustering coefficient is 0.384. Additionally, the graph has a maximum k-core of 5 and a number of communities equal to 3.\n",
      "\n",
      "Graph ID: graph_6, Number of nodes: 49, Number of edges: 133\n",
      "Description: This graph comprises 33 nodes and 198 edges. The average degree is equal to 12.0 and there are 241 triangles in the graph. The global clustering coefficient and the graph's maximum k-core are 0.3319559228650138 and 12 respectively. The graph consists of 5 communities.\n",
      "\n",
      "Graph ID: graph_7, Number of nodes: 47, Number of edges: 105\n",
      "Description: In this graph, there are 15 nodes connected by 14 edges. On average, each node is connected to 1.8666666666666667 other nodes. Within the graph, there are 0 triangles, forming closed loops of nodes. The global clustering coefficient is 0. Additionally, the graph has a maximum k-core of 1 and a number of communities equal to 4.\n",
      "\n",
      "Graph ID: graph_8, Number of nodes: 49, Number of edges: 121\n",
      "Description: In this graph, there are 16 nodes connected by 92 edges. On average, each node is connected to 11.5 other nodes. Within the graph, there are 251 triangles, forming closed loops of nodes. The global clustering coefficient is 0.7590725806451613. Additionally, the graph has a maximum k-core of 9 and a number of communities equal to 3.\n",
      "\n",
      "Graph ID: graph_9, Number of nodes: 48, Number of edges: 115\n",
      "Description: In this graph, there are 20 nodes connected by 79 edges. On average, each node is connected to 7.9 other nodes. Within the graph, there are 126 triangles, forming closed loops of nodes. The global clustering coefficient is 0.5170998632010944. Additionally, the graph has a maximum k-core of 7 and a number of communities equal to 3.\n",
      "\n",
      "Graph ID: graph_10, Number of nodes: 48, Number of edges: 123\n",
      "Description: This graph comprises 20 nodes and 94 edges. The average degree is equal to 9.4 and there are 138 triangles in the graph. The global clustering coefficient and the graph's maximum k-core are 0.5 and 6 respectively. The graph consists of 3 communities.\n",
      "\n",
      "Graph ID: graph_11, Number of nodes: 50, Number of edges: 339\n",
      "Description: In this graph, there are 41 nodes connected by 481 edges. On average, each node is connected to 23.463414634146343 other nodes. Within the graph, there are 2134 triangles, forming closed loops of nodes. The global clustering coefficient is 0.5831663326653307. Additionally, the graph has a maximum k-core of 18 and a number of communities equal to 3.\n",
      "\n",
      "Graph ID: graph_12, Number of nodes: 49, Number of edges: 132\n",
      "Description: In this graph, there are 35 nodes connected by 178 edges. On average, each node is connected to 10.17142857142857 other nodes. Within the graph, there are 176 triangles, forming closed loops of nodes. The global clustering coefficient is 0.2979683972911964. Additionally, the graph has a maximum k-core of 8 and a number of communities equal to 4.\n",
      "\n",
      "Graph ID: graph_13, Number of nodes: 50, Number of edges: 283\n",
      "Description: In this graph, there are 30 nodes connected by 420 edges. On average, each node is connected to 28.0 other nodes. Within the graph, there are 3650 triangles, forming closed loops of nodes. The global clustering coefficient is 0.9647577092511013. Additionally, the graph has a maximum k-core of 26 and a number of communities equal to 2.\n",
      "\n",
      "Graph ID: graph_14, Number of nodes: 50, Number of edges: 203\n",
      "Description: In this graph, there are 49 nodes connected by 392 edges. On average, each node is connected to 16.0 other nodes. Within the graph, there are 608 triangles, forming closed loops of nodes. The global clustering coefficient is 0.31020408163265306. Additionally, the graph has a maximum k-core of 16 and a number of communities equal to 4.\n",
      "\n",
      "Graph ID: graph_15, Number of nodes: 47, Number of edges: 107\n",
      "Description: This graph comprises 10 nodes and 20 edges. The average degree is equal to 4.0 and there are 8 triangles in the graph. The global clustering coefficient and the graph's maximum k-core are 0.34782608695652173 and 3 respectively. The graph consists of 2 communities.\n",
      "\n",
      "Graph ID: graph_16, Number of nodes: 49, Number of edges: 132\n",
      "Description: This graph comprises 38 nodes and 190 edges. The average degree is equal to 10.0 and there are 162 triangles in the graph. The global clustering coefficient and the graph's maximum k-core are 0.2627027027027027 and 7 respectively. The graph consists of 5 communities.\n",
      "\n",
      "Graph ID: graph_17, Number of nodes: 48, Number of edges: 109\n",
      "Description: In this graph, there are 19 nodes connected by 50 edges. On average, each node is connected to 5.2631578947368425 other nodes. Within the graph, there are 51 triangles, forming closed loops of nodes. The global clustering coefficient is 0.3355263157894737. Additionally, the graph has a maximum k-core of 4 and a number of communities equal to 2.\n",
      "\n",
      "Graph ID: graph_18, Number of nodes: 50, Number of edges: 133\n",
      "Description: This graph comprises 16 nodes and 112 edges. The average degree is equal to 14 and there are 448 triangles in the graph. The global clustering coefficient and the graph's maximum k-core are 0.9230769230769231 and 14 respectively. The graph consists of 2 communities.\n",
      "\n",
      "Graph ID: graph_19, Number of nodes: 50, Number of edges: 367\n",
      "Description: This graph comprises 48 nodes and 677 edges. The average degree is equal to 28.208333333333332 and there are 7770 triangles in the graph. The global clustering coefficient and the graph's maximum k-core are 0.9980304846720329 and 36 respectively. The graph consists of 2 communities.\n",
      "\n",
      "Graph ID: graph_20, Number of nodes: 50, Number of edges: 402\n",
      "Description: This graph comprises 46 nodes and 1035 edges. The average degree is equal to 45.0 and there are 15180 triangles in the graph. The global clustering coefficient and the graph's maximum k-core are 1.0 and 45 respectively. The graph consists of 1 communities.\n",
      "\n",
      "Graph ID: graph_21, Number of nodes: 50, Number of edges: 209\n",
      "Description: This graph comprises 46 nodes and 321 edges. The average degree is equal to 13.956521739130435 and there are 2300 triangles in the graph. The global clustering coefficient and the graph's maximum k-core are 0.993663594470046 and 24 respectively. The graph consists of 2 communities.\n",
      "\n",
      "Graph ID: graph_22, Number of nodes: 48, Number of edges: 110\n",
      "Description: This graph comprises 39 nodes and 74 edges. The average degree is equal to 3.7948717948717947 and there are 36 triangles in the graph. The global clustering coefficient and the graph's maximum k-core are 0.07686832740213523 and 2 respectively. The graph consists of 1 communities.\n",
      "\n",
      "Graph ID: graph_23, Number of nodes: 49, Number of edges: 114\n",
      "Description: In this graph, there are 12 nodes connected by 63 edges. On average, each node is connected to 10.5 other nodes. Within the graph, there are 190 triangles, forming closed loops of nodes. The global clustering coefficient is 0.95. Additionally, the graph has a maximum k-core of 10 and a number of communities equal to 1.\n",
      "\n",
      "Graph ID: graph_24, Number of nodes: 50, Number of edges: 345\n",
      "Description: This graph comprises 49 nodes and 528 edges. The average degree is equal to 21.551020408163264 and there are 2418 triangles in the graph. The global clustering coefficient and the graph's maximum k-core are 0.5511320468013979 and 15 respectively. The graph consists of 4 communities.\n",
      "\n",
      "Graph ID: graph_25, Number of nodes: 50, Number of edges: 397\n",
      "Description: In this graph, there are 43 nodes connected by 817 edges. On average, each node is connected to 38.0 other nodes. Within the graph, there are 9067 triangles, forming closed loops of nodes. The global clustering coefficient is 0.8998312878361838. Additionally, the graph has a maximum k-core of 38 and a number of communities equal to 2.\n",
      "\n",
      "Graph ID: graph_26, Number of nodes: 48, Number of edges: 124\n",
      "Description: In this graph, there are 21 nodes connected by 108 edges. On average, each node is connected to 10.285714285714286 other nodes. Within the graph, there are 202 triangles, forming closed loops of nodes. The global clustering coefficient is 0.5906432748538012. Additionally, the graph has a maximum k-core of 8 and a number of communities equal to 3.\n",
      "\n",
      "Graph ID: graph_27, Number of nodes: 50, Number of edges: 264\n",
      "Description: This graph comprises 29 nodes and 384 edges. The average degree is equal to 26.482758620689655 and there are 3186 triangles in the graph. The global clustering coefficient and the graph's maximum k-core are 0.9651620720993638 and 25 respectively. The graph consists of 2 communities.\n",
      "\n",
      "Graph ID: graph_28, Number of nodes: 47, Number of edges: 107\n",
      "Description: This graph comprises 22 nodes and 37 edges. The average degree is equal to 3.3636363636363638 and there are 16 triangles in the graph. The global clustering coefficient and the graph's maximum k-core are 0.13370473537604458 and 2 respectively. The graph consists of 2 communities.\n",
      "\n",
      "Graph ID: graph_29, Number of nodes: 50, Number of edges: 140\n",
      "Description: This graph comprises 44 nodes and 264 edges. The average degree is equal to 12.0 and there are 225 triangles in the graph. The global clustering coefficient and the graph's maximum k-core are 0.23243801652892562 and 12 respectively. The graph consists of 5 communities.\n",
      "\n",
      "Graph ID: graph_30, Number of nodes: 50, Number of edges: 126\n",
      "Description: In this graph, there are 45 nodes connected by 149 edges. On average, each node is connected to 6.622222222222222 other nodes. Within the graph, there are 560 triangles, forming closed loops of nodes. The global clustering coefficient is 0.9750435287289612. Additionally, the graph has a maximum k-core of 15 and a number of communities equal to 4.\n",
      "\n",
      "Graph ID: graph_31, Number of nodes: 50, Number of edges: 382\n",
      "Description: This graph comprises 48 nodes and 783 edges. The average degree is equal to 32.625 and there are 5738 triangles in the graph. The global clustering coefficient and the graph's maximum k-core are 0.6898292858860303 and 27 respectively. The graph consists of 5 communities.\n",
      "\n",
      "Graph ID: graph_32, Number of nodes: 47, Number of edges: 106\n",
      "Description: In this graph, there are 12 nodes connected by 16 edges. On average, each node is connected to 2.6666666666666665 other nodes. Within the graph, there are 5 triangles, forming closed loops of nodes. The global clustering coefficient is 0.2112676056338028. Additionally, the graph has a maximum k-core of 2 and a number of communities equal to 2.\n",
      "\n",
      "Graph ID: graph_33, Number of nodes: 50, Number of edges: 125\n",
      "Description: In this graph, there are 23 nodes connected by 100 edges. On average, each node is connected to 8.695652173913043 other nodes. Within the graph, there are 364 triangles, forming closed loops of nodes. The global clustering coefficient is 0.9811320754716981. Additionally, the graph has a maximum k-core of 13 and a number of communities equal to 2.\n",
      "\n",
      "Graph ID: graph_34, Number of nodes: 50, Number of edges: 385\n",
      "Description: This graph comprises 40 nodes and 702 edges. The average degree is equal to 35.1 and there are 7640 triangles in the graph. The global clustering coefficient and the graph's maximum k-core are 0.9363127578740962 and 34 respectively. The graph consists of 2 communities.\n",
      "\n",
      "Graph ID: graph_35, Number of nodes: 50, Number of edges: 237\n",
      "Description: In this graph, there are 36 nodes connected by 351 edges. On average, each node is connected to 19.5 other nodes. Within the graph, there are 1576 triangles, forming closed loops of nodes. The global clustering coefficient is 0.6490048043925875. Additionally, the graph has a maximum k-core of 14 and a number of communities equal to 4.\n",
      "\n",
      "Graph ID: graph_36, Number of nodes: 47, Number of edges: 106\n",
      "Description: In this graph, there are 43 nodes connected by 48 edges. On average, each node is connected to 2.2325581395348837 other nodes. Within the graph, there are 10 triangles, forming closed loops of nodes. The global clustering coefficient is 0.4225352112676056. Additionally, the graph has a maximum k-core of 4 and a number of communities equal to 6.\n",
      "\n",
      "Graph ID: graph_37, Number of nodes: 47, Number of edges: 105\n",
      "Description: In this graph, there are 21 nodes connected by 20 edges. On average, each node is connected to 1.9047619047619047 other nodes. Within the graph, there are 0 triangles, forming closed loops of nodes. The global clustering coefficient is 0. Additionally, the graph has a maximum k-core of 1 and a number of communities equal to 4.\n",
      "\n",
      "Graph ID: graph_38, Number of nodes: 47, Number of edges: 107\n",
      "Description: In this graph, there are 14 nodes connected by 37 edges. On average, each node is connected to 5.285714285714286 other nodes. Within the graph, there are 35 triangles, forming closed loops of nodes. The global clustering coefficient is 0.5198019801980198. Additionally, the graph has a maximum k-core of 4 and a number of communities equal to 3.\n",
      "\n",
      "Graph ID: graph_39, Number of nodes: 47, Number of edges: 105\n",
      "Description: In this graph, there are 34 nodes connected by 33 edges. On average, each node is connected to 1.9411764705882353 other nodes. Within the graph, there are 0 triangles, forming closed loops of nodes. The global clustering coefficient is 0. Additionally, the graph has a maximum k-core of 1 and a number of communities equal to 6.\n",
      "\n",
      "Graph ID: graph_40, Number of nodes: 48, Number of edges: 121\n",
      "Description: This graph comprises 28 nodes and 90 edges. The average degree is equal to 6.428571428571429 and there are 118 triangles in the graph. The global clustering coefficient and the graph's maximum k-core are 0.2875710804224208 and 4 respectively. The graph consists of 3 communities.\n",
      "\n",
      "Graph ID: graph_41, Number of nodes: 50, Number of edges: 186\n",
      "Description: This graph comprises 30 nodes and 283 edges. The average degree is equal to 18.866666666666667 and there are 1110 triangles in the graph. The global clustering coefficient and the graph's maximum k-core are 0.6476079346557759 and 15 respectively. The graph consists of 3 communities.\n",
      "\n",
      "Graph ID: graph_42, Number of nodes: 50, Number of edges: 227\n",
      "Description: This graph comprises 43 nodes and 387 edges. The average degree is equal to 18.0 and there are 891 triangles in the graph. The global clustering coefficient and the graph's maximum k-core are 0.4062927496580027 and 18 respectively. The graph consists of 5 communities.\n",
      "\n",
      "Graph ID: graph_43, Number of nodes: 50, Number of edges: 203\n",
      "Description: In this graph, there are 39 nodes connected by 312 edges. On average, each node is connected to 16.0 other nodes. Within the graph, there are 660 triangles, forming closed loops of nodes. The global clustering coefficient is 0.41164241164241167. Additionally, the graph has a maximum k-core of 12 and a number of communities equal to 5.\n",
      "\n",
      "Graph ID: graph_44, Number of nodes: 47, Number of edges: 107\n",
      "Description: This graph comprises 19 nodes and 34 edges. The average degree is equal to 3.5789473684210527 and there are 15 triangles in the graph. The global clustering coefficient and the graph's maximum k-core are 0.28662420382165604 and 2 respectively. The graph consists of 3 communities.\n",
      "\n",
      "Graph ID: graph_45, Number of nodes: 47, Number of edges: 105\n",
      "Description: This graph comprises 19 nodes and 18 edges. The average degree is equal to 1.894736842105263 and there are 0 triangles in the graph. The global clustering coefficient and the graph's maximum k-core are 0 and 1 respectively. The graph consists of 5 communities.\n",
      "\n",
      "Graph ID: graph_46, Number of nodes: 50, Number of edges: 407\n",
      "Description: This graph comprises 48 nodes and 1092 edges. The average degree is equal to 45.5 and there are 15883 triangles in the graph. The global clustering coefficient and the graph's maximum k-core are 0.9758340330541276 and 43 respectively. The graph consists of 2 communities.\n",
      "\n",
      "Graph ID: graph_47, Number of nodes: 47, Number of edges: 105\n",
      "Description: This graph comprises 29 nodes and 28 edges. The average degree is equal to 1.9310344827586208 and there are 0 triangles in the graph. The global clustering coefficient and the graph's maximum k-core are 0 and 1 respectively. The graph consists of 6 communities.\n",
      "\n",
      "Graph ID: graph_48, Number of nodes: 48, Number of edges: 109\n",
      "Description: In this graph, there are 50 nodes connected by 96 edges. On average, each node is connected to 3.84 other nodes. Within the graph, there are 38 triangles, forming closed loops of nodes. The global clustering coefficient is 0.22529644268774704. Additionally, the graph has a maximum k-core of 2 and a number of communities equal to 7.\n",
      "\n",
      "Graph ID: graph_49, Number of nodes: 50, Number of edges: 242\n",
      "Description: In this graph, there are 40 nodes connected by 364 edges. On average, each node is connected to 18.2 other nodes. Within the graph, there are 2925 triangles, forming closed loops of nodes. The global clustering coefficient is 0.9956881879042324. Additionally, the graph has a maximum k-core of 26 and a number of communities equal to 2.\n",
      "\n",
      "Graph ID: graph_50, Number of nodes: 50, Number of edges: 158\n",
      "Description: This graph comprises 37 nodes and 189 edges. The average degree is equal to 10.216216216216216 and there are 969 triangles in the graph. The global clustering coefficient and the graph's maximum k-core are 0.9881033310673012 and 18 respectively. The graph consists of 2 communities.\n",
      "\n",
      "Graph ID: graph_51, Number of nodes: 47, Number of edges: 107\n",
      "Description: This graph comprises 12 nodes and 29 edges. The average degree is equal to 4.833333333333333 and there are 29 triangles in the graph. The global clustering coefficient and the graph's maximum k-core are 0.5272727272727272 and 4 respectively. The graph consists of 3 communities.\n",
      "\n",
      "Graph ID: graph_52, Number of nodes: 50, Number of edges: 164\n",
      "Description: This graph comprises 25 nodes and 202 edges. The average degree is equal to 16.16 and there are 699 triangles in the graph. The global clustering coefficient and the graph's maximum k-core are 0.6701821668264621 and 13 respectively. The graph consists of 3 communities.\n",
      "\n",
      "Graph ID: graph_53, Number of nodes: 50, Number of edges: 352\n",
      "Description: In this graph, there are 50 nodes connected by 643 edges. On average, each node is connected to 25.72 other nodes. Within the graph, there are 2825 triangles, forming closed loops of nodes. The global clustering coefficient is 0.5242808536962573. Additionally, the graph has a maximum k-core of 20 and a number of communities equal to 4.\n",
      "\n",
      "Graph ID: graph_54, Number of nodes: 49, Number of edges: 120\n",
      "Description: This graph comprises 33 nodes and 110 edges. The average degree is equal to 6.666666666666667 and there are 364 triangles in the graph. The global clustering coefficient and the graph's maximum k-core are 0.9723953695458593 and 13 respectively. The graph consists of 3 communities.\n",
      "\n",
      "Graph ID: graph_55, Number of nodes: 50, Number of edges: 261\n",
      "Description: In this graph, there are 28 nodes connected by 364 edges. On average, each node is connected to 26.0 other nodes. Within the graph, there are 2926 triangles, forming closed loops of nodes. The global clustering coefficient is 0.9630279758639605. Additionally, the graph has a maximum k-core of 24 and a number of communities equal to 1.\n",
      "\n",
      "Graph ID: graph_56, Number of nodes: 50, Number of edges: 161\n",
      "Description: This graph comprises 29 nodes and 193 edges. The average degree is equal to 13.310344827586206 and there are 604 triangles in the graph. The global clustering coefficient and the graph's maximum k-core are 0.5781748564135291 and 9 respectively. The graph consists of 3 communities.\n",
      "\n",
      "Graph ID: graph_57, Number of nodes: 50, Number of edges: 127\n",
      "Description: In this graph, there are 30 nodes connected by 120 edges. On average, each node is connected to 8.0 other nodes. Within the graph, there are 455 triangles, forming closed loops of nodes. The global clustering coefficient is 0.9798994974874372. Additionally, the graph has a maximum k-core of 14 and a number of communities equal to 2.\n",
      "\n",
      "Graph ID: graph_58, Number of nodes: 50, Number of edges: 149\n",
      "Description: This graph comprises 41 nodes and 176 edges. The average degree is equal to 8.585365853658537 and there are 816 triangles in the graph. The global clustering coefficient and the graph's maximum k-core are 0.9843184559710495 and 17 respectively. The graph consists of 3 communities.\n",
      "\n",
      "Graph ID: graph_59, Number of nodes: 50, Number of edges: 168\n",
      "Description: This graph comprises 43 nodes and 252 edges. The average degree is equal to 11.720930232558139 and there are 670 triangles in the graph. The global clustering coefficient and the graph's maximum k-core are 0.34441398217957503 and 7 respectively. The graph consists of 3 communities.\n",
      "\n",
      "Graph ID: graph_60, Number of nodes: 47, Number of edges: 107\n",
      "Description: In this graph, there are 14 nodes connected by 28 edges. On average, each node is connected to 4.0 other nodes. Within the graph, there are 9 triangles, forming closed loops of nodes. The global clustering coefficient is 0.2727272727272727. Additionally, the graph has a maximum k-core of 3 and a number of communities equal to 4.\n",
      "\n",
      "Graph ID: graph_61, Number of nodes: 50, Number of edges: 408\n",
      "Description: In this graph, there are 47 nodes connected by 1026 edges. On average, each node is connected to 43.659574468085104 other nodes. Within the graph, there are 14193 triangles, forming closed loops of nodes. The global clustering coefficient is 0.9642420399474614. Additionally, the graph has a maximum k-core of 40 and a number of communities equal to 2.\n",
      "\n",
      "Graph ID: graph_62, Number of nodes: 50, Number of edges: 206\n",
      "Description: In this graph, there are 39 nodes connected by 291 edges. On average, each node is connected to 14.923076923076923 other nodes. Within the graph, there are 2024 triangles, forming closed loops of nodes. The global clustering coefficient is 0.9939433622524144. Additionally, the graph has a maximum k-core of 23 and a number of communities equal to 2.\n",
      "\n",
      "Graph ID: graph_63, Number of nodes: 50, Number of edges: 130\n",
      "Description: In this graph, there are 48 nodes connected by 167 edges. On average, each node is connected to 6.958333333333333 other nodes. Within the graph, there are 680 triangles, forming closed loops of nodes. The global clustering coefficient is 0.9779482262703739. Additionally, the graph has a maximum k-core of 16 and a number of communities equal to 4.\n",
      "\n",
      "Graph ID: graph_64, Number of nodes: 47, Number of edges: 107\n",
      "Description: This graph comprises 10 nodes and 40 edges. The average degree is equal to 8 and there are 80 triangles in the graph. The global clustering coefficient and the graph's maximum k-core are 0.8571428571428571 and 8 respectively. The graph consists of 2 communities.\n",
      "\n",
      "Graph ID: graph_65, Number of nodes: 47, Number of edges: 106\n",
      "Description: In this graph, there are 36 nodes connected by 35 edges. On average, each node is connected to 1.9444444444444444 other nodes. Within the graph, there are 0 triangles, forming closed loops of nodes. The global clustering coefficient is 0. Additionally, the graph has a maximum k-core of 1 and a number of communities equal to 6.\n",
      "\n",
      "Graph ID: graph_66, Number of nodes: 49, Number of edges: 134\n",
      "Description: This graph comprises 37 nodes and 186 edges. The average degree is equal to 10.054054054054054 and there are 233 triangles in the graph. The global clustering coefficient and the graph's maximum k-core are 0.34501480750246794 and 6 respectively. The graph consists of 4 communities.\n",
      "\n",
      "Graph ID: graph_67, Number of nodes: 48, Number of edges: 123\n",
      "Description: This graph comprises 32 nodes and 122 edges. The average degree is equal to 7.625 and there are 72 triangles in the graph. The global clustering coefficient and the graph's maximum k-core are 0.24351747463359638 and 5 respectively. The graph consists of 4 communities.\n",
      "\n",
      "Graph ID: graph_68, Number of nodes: 47, Number of edges: 106\n",
      "Description: This graph comprises 46 nodes and 45 edges. The average degree is equal to 1.9565217391304348 and there are 0 triangles in the graph. The global clustering coefficient and the graph's maximum k-core are 0 and 1 respectively. The graph consists of 6 communities.\n",
      "\n",
      "Graph ID: graph_69, Number of nodes: 47, Number of edges: 106\n",
      "Description: In this graph, there are 50 nodes connected by 50 edges. On average, each node is connected to 2.0 other nodes. Within the graph, there are 1 triangles, forming closed loops of nodes. The global clustering coefficient is 0.058823529411764705. Additionally, the graph has a maximum k-core of 2 and a number of communities equal to 8.\n",
      "\n",
      "Graph ID: graph_70, Number of nodes: 50, Number of edges: 127\n",
      "Description: In this graph, there are 42 nodes connected by 146 edges. On average, each node is connected to 6.9523809523809526 other nodes. Within the graph, there are 560 triangles, forming closed loops of nodes. The global clustering coefficient is 0.9767441860465116. Additionally, the graph has a maximum k-core of 15 and a number of communities equal to 3.\n",
      "\n",
      "Graph ID: graph_71, Number of nodes: 49, Number of edges: 120\n",
      "Description: In this graph, there are 13 nodes connected by 78 edges. On average, each node is connected to 12.0 other nodes. Within the graph, there are 286 triangles, forming closed loops of nodes. The global clustering coefficient is 1.0. Additionally, the graph has a maximum k-core of 12 and a number of communities equal to 1.\n",
      "\n",
      "Graph ID: graph_72, Number of nodes: 49, Number of edges: 123\n",
      "Description: This graph comprises 17 nodes and 102 edges. The average degree is equal to 12.0 and there are 283 triangles in the graph. The global clustering coefficient and the graph's maximum k-core are 0.7427821522309711 and 10 respectively. The graph consists of 2 communities.\n",
      "\n",
      "Graph ID: graph_73, Number of nodes: 50, Number of edges: 237\n",
      "Description: In this graph, there are 28 nodes connected by 336 edges. On average, each node is connected to 24.0 other nodes. Within the graph, there are 2294 triangles, forming closed loops of nodes. The global clustering coefficient is 0.8874274661508704. Additionally, the graph has a maximum k-core of 21 and a number of communities equal to 2.\n",
      "\n",
      "Graph ID: graph_74, Number of nodes: 50, Number of edges: 405\n",
      "Description: In this graph, there are 46 nodes connected by 1012 edges. On average, each node is connected to 44.0 other nodes. Within the graph, there are 14186 triangles, forming closed loops of nodes. The global clustering coefficient is 0.9775807414894105. Additionally, the graph has a maximum k-core of 42 and a number of communities equal to 2.\n",
      "\n",
      "Graph ID: graph_75, Number of nodes: 50, Number of edges: 211\n",
      "Description: In this graph, there are 29 nodes connected by 319 edges. On average, each node is connected to 22.0 other nodes. Within the graph, there are 1759 triangles, forming closed loops of nodes. The global clustering coefficient is 0.7825893519205102. Additionally, the graph has a maximum k-core of 18 and a number of communities equal to 2.\n",
      "\n",
      "Graph ID: graph_76, Number of nodes: 48, Number of edges: 110\n",
      "Description: This graph comprises 29 nodes and 74 edges. The average degree is equal to 5.103448275862069 and there are 35 triangles in the graph. The global clustering coefficient and the graph's maximum k-core are 0.3322784810126582 and 4 respectively. The graph consists of 5 communities.\n",
      "\n",
      "Graph ID: graph_77, Number of nodes: 50, Number of edges: 382\n",
      "Description: In this graph, there are 38 nodes connected by 699 edges. On average, each node is connected to 36.78947368421053 other nodes. Within the graph, there are 8296 triangles, forming closed loops of nodes. The global clustering coefficient is 0.9945652173913043. Additionally, the graph has a maximum k-core of 35 and a number of communities equal to 1.\n",
      "\n",
      "Graph ID: graph_78, Number of nodes: 47, Number of edges: 108\n",
      "Description: This graph comprises 36 nodes and 58 edges. The average degree is equal to 3.2222222222222223 and there are 3 triangles in the graph. The global clustering coefficient and the graph's maximum k-core are 0.05454545454545454 and 3 respectively. The graph consists of 4 communities.\n",
      "\n",
      "Graph ID: graph_79, Number of nodes: 50, Number of edges: 395\n",
      "Description: In this graph, there are 44 nodes connected by 744 edges. On average, each node is connected to 33.81818181818182 other nodes. Within the graph, there are 6451 triangles, forming closed loops of nodes. The global clustering coefficient is 0.7872513525607127. Additionally, the graph has a maximum k-core of 28 and a number of communities equal to 3.\n",
      "\n",
      "Graph ID: graph_80, Number of nodes: 48, Number of edges: 112\n",
      "Description: In this graph, there are 24 nodes connected by 63 edges. On average, each node is connected to 5.25 other nodes. Within the graph, there are 58 triangles, forming closed loops of nodes. The global clustering coefficient is 0.23169107856191745. Additionally, the graph has a maximum k-core of 3 and a number of communities equal to 2.\n",
      "\n",
      "Graph ID: graph_81, Number of nodes: 50, Number of edges: 308\n",
      "Description: This graph comprises 45 nodes and 495 edges. The average degree is equal to 22.0 and there are 1677 triangles in the graph. The global clustering coefficient and the graph's maximum k-core are 0.48398268398268396 and 22 respectively. The graph consists of 4 communities.\n",
      "\n",
      "Graph ID: graph_82, Number of nodes: 47, Number of edges: 106\n",
      "Description: This graph comprises 10 nodes and 16 edges. The average degree is equal to 3.2 and there are 7 triangles in the graph. The global clustering coefficient and the graph's maximum k-core are 0.29577464788732394 and 2 respectively. The graph consists of 2 communities.\n",
      "\n",
      "Graph ID: graph_83, Number of nodes: 47, Number of edges: 107\n",
      "Description: This graph comprises 33 nodes and 53 edges. The average degree is equal to 3.212121212121212 and there are 56 triangles in the graph. The global clustering coefficient and the graph's maximum k-core are 0.8442211055276382 and 7 respectively. The graph consists of 5 communities.\n",
      "\n",
      "Graph ID: graph_84, Number of nodes: 47, Number of edges: 106\n",
      "Description: In this graph, there are 47 nodes connected by 46 edges. On average, each node is connected to 1.9574468085106382 other nodes. Within the graph, there are 0 triangles, forming closed loops of nodes. The global clustering coefficient is 0. Additionally, the graph has a maximum k-core of 1 and a number of communities equal to 7.\n",
      "\n",
      "Graph ID: graph_85, Number of nodes: 50, Number of edges: 156\n",
      "Description: This graph comprises 18 nodes and 143 edges. The average degree is equal to 15.88888888888889 and there are 666 triangles in the graph. The global clustering coefficient and the graph's maximum k-core are 0.9345182413470533 and 14 respectively. The graph consists of 2 communities.\n",
      "\n",
      "Graph ID: graph_86, Number of nodes: 50, Number of edges: 282\n",
      "Description: In this graph, there are 40 nodes connected by 396 edges. On average, each node is connected to 19.8 other nodes. Within the graph, there are 1791 triangles, forming closed loops of nodes. The global clustering coefficient is 0.6061597472924187. Additionally, the graph has a maximum k-core of 14 and a number of communities equal to 4.\n",
      "\n",
      "Graph ID: graph_87, Number of nodes: 50, Number of edges: 294\n",
      "Description: In this graph, there are 50 nodes connected by 500 edges. On average, each node is connected to 20.0 other nodes. Within the graph, there are 1296 triangles, forming closed loops of nodes. The global clustering coefficient is 0.4022346368715084. Additionally, the graph has a maximum k-core of 15 and a number of communities equal to 5.\n",
      "\n",
      "Graph ID: graph_88, Number of nodes: 49, Number of edges: 131\n",
      "Description: This graph comprises 27 nodes and 149 edges. The average degree is equal to 11.037037037037036 and there are 215 triangles in the graph. The global clustering coefficient and the graph's maximum k-core are 0.4174757281553398 and 8 respectively. The graph consists of 4 communities.\n",
      "\n",
      "Graph ID: graph_89, Number of nodes: 48, Number of edges: 127\n",
      "Description: This graph comprises 23 nodes and 120 edges. The average degree is equal to 10.434782608695652 and there are 225 triangles in the graph. The global clustering coefficient and the graph's maximum k-core are 0.5232558139534884 and 8 respectively. The graph consists of 3 communities.\n",
      "\n",
      "Graph ID: graph_90, Number of nodes: 50, Number of edges: 136\n",
      "Description: This graph comprises 18 nodes and 119 edges. The average degree is equal to 13.222222222222221 and there are 428 triangles in the graph. The global clustering coefficient and the graph's maximum k-core are 0.8364820846905537 and 11 respectively. The graph consists of 3 communities.\n",
      "\n",
      "Graph ID: graph_91, Number of nodes: 48, Number of edges: 109\n",
      "Description: This graph comprises 44 nodes and 84 edges. The average degree is equal to 3.8181818181818183 and there are 41 triangles in the graph. The global clustering coefficient and the graph's maximum k-core are 0.06814404432132964 and 2 respectively. The graph consists of 2 communities.\n",
      "\n",
      "Graph ID: graph_92, Number of nodes: 47, Number of edges: 105\n",
      "Description: This graph comprises 38 nodes and 37 edges. The average degree is equal to 1.9473684210526316 and there are 0 triangles in the graph. The global clustering coefficient and the graph's maximum k-core are 0 and 1 respectively. The graph consists of 7 communities.\n",
      "\n",
      "Graph ID: graph_93, Number of nodes: 47, Number of edges: 106\n",
      "Description: This graph comprises 21 nodes and 23 edges. The average degree is equal to 2.1904761904761907 and there are 4 triangles in the graph. The global clustering coefficient and the graph's maximum k-core are 0.3870967741935484 and 3 respectively. The graph consists of 4 communities.\n",
      "\n",
      "Graph ID: graph_94, Number of nodes: 50, Number of edges: 270\n",
      "Description: In this graph, there are 36 nodes connected by 396 edges. On average, each node is connected to 22.0 other nodes. Within the graph, there are 1751 triangles, forming closed loops of nodes. The global clustering coefficient is 0.6247621313035204. Additionally, the graph has a maximum k-core of 18 and a number of communities equal to 3.\n",
      "\n",
      "Graph ID: graph_95, Number of nodes: 47, Number of edges: 105\n",
      "Description: This graph comprises 13 nodes and 12 edges. The average degree is equal to 1.8461538461538463 and there are 0 triangles in the graph. The global clustering coefficient and the graph's maximum k-core are 0 and 1 respectively. The graph consists of 1 communities.\n",
      "\n",
      "Graph ID: graph_96, Number of nodes: 48, Number of edges: 121\n",
      "Description: In this graph, there are 21 nodes connected by 105 edges. On average, each node is connected to 10.0 other nodes. Within the graph, there are 143 triangles, forming closed loops of nodes. The global clustering coefficient is 0.45396825396825397. Additionally, the graph has a maximum k-core of 10 and a number of communities equal to 3.\n",
      "\n",
      "Graph ID: graph_97, Number of nodes: 47, Number of edges: 105\n",
      "Description: This graph comprises 12 nodes and 11 edges. The average degree is equal to 1.8333333333333333 and there are 0 triangles in the graph. The global clustering coefficient and the graph's maximum k-core are 0 and 1 respectively. The graph consists of 4 communities.\n",
      "\n",
      "Graph ID: graph_98, Number of nodes: 50, Number of edges: 364\n",
      "Description: In this graph, there are 37 nodes connected by 584 edges. On average, each node is connected to 31.56756756756757 other nodes. Within the graph, there are 5277 triangles, forming closed loops of nodes. The global clustering coefficient is 0.8820972864545606. Additionally, the graph has a maximum k-core of 27 and a number of communities equal to 2.\n",
      "\n",
      "Graph ID: graph_99, Number of nodes: 50, Number of edges: 371\n",
      "Description: This graph comprises 44 nodes and 660 edges. The average degree is equal to 30.0 and there are 4459 triangles in the graph. The global clustering coefficient and the graph's maximum k-core are 0.6936838830118233 and 25 respectively. The graph consists of 4 communities.\n",
      "\n"
     ]
    }
   ],
   "source": [
    "import ast\n",
    "import pandas as pd\n",
    "\n",
    "# Load the CSV file into a DataFrame\n",
    "file_path = '../GAN_condtion.csv'  # Replace with your file's path\n",
    "df = pd.read_csv(file_path)\n",
    "\n",
    "# Function to parse the edge list string into a list of tuples\n",
    "def parse_edge_list(edge_list_str):\n",
    "    return ast.literal_eval(f\"[{edge_list_str}]\")\n",
    "\n",
    "# Iterate through the DataFrame rows and create graphs\n",
    "graphs = {}\n",
    "for _, row in df.iterrows():\n",
    "    graph_id = row['graph_id']\n",
    "    edge_list_str = row['edge_list']\n",
    "    edge_list = parse_edge_list(edge_list_str)\n",
    "    \n",
    "    # Create a NetworkX graph from the edge list\n",
    "    G = nx.Graph()\n",
    "    G.add_edges_from(edge_list)\n",
    "    graphs[graph_id] = G\n",
    "    \n",
    "# Print the first 20 graphs ID and number of nodes and edges and description\n",
    "for graph_id, graph in list(graphs.items())[:100]:\n",
    "    print(f\"Graph ID: {graph_id}, Number of nodes: {graph.number_of_nodes()}, Number of edges: {graph.number_of_edges()}\")\n",
    "    print(f\"Description: {test_description[graph_id]}\")\n",
    "    print()"
   ]
  }
 ],
 "metadata": {
  "kernelspec": {
   "display_name": "graph_env",
   "language": "python",
   "name": "python3"
  },
  "language_info": {
   "codemirror_mode": {
    "name": "ipython",
    "version": 3
   },
   "file_extension": ".py",
   "mimetype": "text/x-python",
   "name": "python",
   "nbconvert_exporter": "python",
   "pygments_lexer": "ipython3",
   "version": "3.12.8"
  }
 },
 "nbformat": 4,
 "nbformat_minor": 2
}
